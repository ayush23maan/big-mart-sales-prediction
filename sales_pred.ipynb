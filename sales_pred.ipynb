{
 "cells": [
  {
   "cell_type": "code",
   "execution_count": 2,
   "metadata": {},
   "outputs": [],
   "source": [
    "import pandas as pd\n",
    "import numpy as np\n",
    "from lightgbm import LGBMRegressor\n",
    "import lightgbm as lgb\n",
    "from sklearn.preprocessing import LabelEncoder, OneHotEncoder\n",
    "from sklearn.metrics import mean_squared_error\n",
    "from sklearn.metrics import mean_absolute_percentage_error\n",
    "import matplotlib.pyplot as plt"
   ]
  },
  {
   "cell_type": "code",
   "execution_count": 3,
   "metadata": {},
   "outputs": [],
   "source": [
    "def preprocess_train_data(train_data_path): # include type hints later and \n",
    "    # clean up the return from docstring\n",
    "    \"\"\"\n",
    "    Split train data into features and target\n",
    "    csv file specified in path is read as pandas df.\n",
    "    The columns are renamed. \n",
    "    \n",
    "    Arguments\n",
    "    _________\n",
    "    train_data_path : system path for training csv file\n",
    "    \n",
    "    Returns\n",
    "    _______\n",
    "    Pandas dataframe\n",
    "    \"\"\"\n",
    "    \n",
    "    stores_sales = pd.read_csv(train_data_path)\n",
    "\n",
    "    # rename target column to business for intuition. Increase the business.\n",
    "    stores_sales.rename(columns={'Item_Outlet_Sales':'business'}, inplace=True)\n",
    "\n",
    "    # parse target(buisness) and features(situations) for intuition\n",
    "    situations = stores_sales.drop(columns=['business'])\n",
    "    business = stores_sales['business']\n",
    "\n",
    "    return situations, business"
   ]
  },
  {
   "cell_type": "code",
   "execution_count": 4,
   "metadata": {},
   "outputs": [],
   "source": [
    "def get_cat_feature_names(situations):\n",
    "    \"\"\"\n",
    "    Gives the list of categorical column names\n",
    "\n",
    "    Returns\n",
    "    _______\n",
    "    list of names\n",
    "    \"\"\"\n",
    "    # store column data types as pandas series\n",
    "    columns_types = situations.dtypes\n",
    "\n",
    "    # filter the series for object datatype using object string and get index. \n",
    "    # Then convert index to array\n",
    "    return columns_types[columns_types == 'object'].index.values"
   ]
  },
  {
   "cell_type": "code",
   "execution_count": 5,
   "metadata": {},
   "outputs": [],
   "source": [
    "def get_num_feature_names(situations):\n",
    "    \"\"\"\n",
    "    Gives the list of numerical column names\n",
    "\n",
    "    Returns\n",
    "    _______\n",
    "    list of names\n",
    "    \"\"\"\n",
    "    # store column data types as pandas series\n",
    "    columns_types = situations.dtypes\n",
    "\n",
    "    # filter the series for object datatype using object string and get index. \n",
    "    # Then convert index to array\n",
    "    return columns_types[columns_types != 'object'].index.values"
   ]
  },
  {
   "cell_type": "code",
   "execution_count": 6,
   "metadata": {},
   "outputs": [],
   "source": [
    "def encode_cat_cols(situations, cat_cols_encoder_types):\n",
    "    \"\"\"\n",
    "    Encodes categroical columns in situations.\n",
    "\n",
    "    2. Stores the encoders in a dict against each column name. The column encoder is \n",
    "    retrieved for a col name and fit/trained on that column data in situations. Then, the  \n",
    "    column is then encoded in situations. (Do I need to store the encoder? \n",
    "    Will it be used later on? What about the encoding of future dataset?)\n",
    "\n",
    "    3. The new encoded columns are added to situations with new names.\n",
    "    The encoded name to original name dict is maintained. It is returned for future use.\n",
    "    \n",
    "    Returns\n",
    "    _______\n",
    "    situations df with encoded columns\n",
    "    enc_col_names_to_col_names_dict\n",
    "    \n",
    "    \"\"\"\n",
    "\n",
    "    # col encoders dictionary will store the encoders for each colum\n",
    "    col_encoders_dict = {}\n",
    "\n",
    "    # enc_col_names_to_col_names_dict will store the encoded column name\n",
    "    # to original column name mapping \n",
    "    enc_col_names_to_col_names_dict = {}\n",
    "\n",
    "    # Pick up cat column from cat_cols_encoder_types one at a time\n",
    "    for col, encoder_type in cat_cols_encoder_types.items():\n",
    "        encoded_col_name = f\"{col}_encoded\"\n",
    "\n",
    "        # storing mapping from encoded columns \n",
    "        # to original columns\n",
    "        enc_col_names_to_col_names_dict[encoded_col_name] = col\n",
    "\n",
    "        # Creating encoder for each column and storing in dict\n",
    "        if encoder_type == 'label':\n",
    "            col_encoders_dict[col] = LabelEncoder()\n",
    "            # fitting the encoders on cat column of situation and\n",
    "            # encoding the columns in situations\n",
    "            situations[encoded_col_name] = col_encoders_dict[col].fit_transform(situations[col])\n",
    "        else:\n",
    "            col_encoders_dict[col] = OneHotEncoder(sparse_output=False)\n",
    "            # fitting the encoders on cat column of situation and\n",
    "            # encoding the columns in situations\n",
    "            encoded_array = col_encoders_dict[col].fit_transform(situations[[col]])\n",
    "            # Add the one-hot encoded columns to the DataFrame\n",
    "            for i, category in enumerate(col_encoders_dict[col].categories_[0]):\n",
    "                situations[f\"{encoded_col_name}_{category}\"] = encoded_array[:, i]\n",
    "\n",
    "    return situations, col_encoders_dict"
   ]
  },
  {
   "cell_type": "code",
   "execution_count": 7,
   "metadata": {},
   "outputs": [],
   "source": [
    "def get_unique_cat_values_from_situations(situations):\n",
    "    situations_cat_cols_names = get_cat_feature_names(situations)\n",
    "    situations_cat_cols_values = {}\n",
    "\n",
    "    for cat_col in situations_cat_cols_names:\n",
    "        # get one column of the situation\n",
    "        # store the unique values in a dict\n",
    "        situations_cat_cols_values[cat_col] = situations[cat_col].unique()\n",
    "        # return the dict to visualise it\n",
    "\n",
    "    return situations_cat_cols_values"
   ]
  },
  {
   "cell_type": "code",
   "execution_count": 8,
   "metadata": {},
   "outputs": [],
   "source": [
    "def clean_cat_columns(situations):\n",
    "    \"\"\"\n",
    "    standardise the categories within catgeorical columns.\n",
    "    Removes duplicate categories\n",
    "\n",
    "    Returns\n",
    "    _______\n",
    "    df with categories cleaned\n",
    "    \"\"\"\n",
    "    # replace 'Low Fat' 'low fat' with LF in Item_Fat_Content\n",
    "    situations.loc[(situations['Item_Fat_Content'] == 'Low Fat')\\\n",
    "                    | (situations['Item_Fat_Content'] == 'low fat'),\\\n",
    "                    'Item_Fat_Content'] = 'LF'\n",
    "    \n",
    "    # replace 'Low Fat' 'low fat' with LF in Item_Fat_Content\n",
    "    situations.loc[situations['Item_Fat_Content'] == 'Regular','Item_Fat_Content'] = 'reg'    \n",
    "\n",
    "    return situations"
   ]
  },
  {
   "cell_type": "markdown",
   "metadata": {},
   "source": [
    "## Cleaning"
   ]
  },
  {
   "cell_type": "code",
   "execution_count": 9,
   "metadata": {},
   "outputs": [],
   "source": [
    "train_data_path = r'/Users/yadav.a.1/Downloads/train_v9rqX0R.csv'\n",
    "situations, business  = preprocess_train_data(train_data_path=train_data_path)"
   ]
  },
  {
   "cell_type": "code",
   "execution_count": 10,
   "metadata": {},
   "outputs": [
    {
     "data": {
      "text/plain": [
       "Item_Identifier               object\n",
       "Item_Weight                  float64\n",
       "Item_Fat_Content              object\n",
       "Item_Visibility              float64\n",
       "Item_Type                     object\n",
       "Item_MRP                     float64\n",
       "Outlet_Identifier             object\n",
       "Outlet_Establishment_Year      int64\n",
       "Outlet_Size                   object\n",
       "Outlet_Location_Type          object\n",
       "Outlet_Type                   object\n",
       "dtype: object"
      ]
     },
     "execution_count": 10,
     "metadata": {},
     "output_type": "execute_result"
    }
   ],
   "source": [
    "situations.dtypes"
   ]
  },
  {
   "cell_type": "markdown",
   "metadata": {},
   "source": [
    "### Clean up categorical columns. \n",
    "First See the values"
   ]
  },
  {
   "cell_type": "code",
   "execution_count": 11,
   "metadata": {},
   "outputs": [
    {
     "name": "stdout",
     "output_type": "stream",
     "text": [
      "\n",
      " Item_Identifier \n",
      " ['FDA15' 'DRC01' 'FDN15' ... 'NCF55' 'NCW30' 'NCW05']\n",
      "\n",
      " Item_Fat_Content \n",
      " ['Low Fat' 'Regular' 'low fat' 'LF' 'reg']\n",
      "\n",
      " Item_Type \n",
      " ['Dairy' 'Soft Drinks' 'Meat' 'Fruits and Vegetables' 'Household'\n",
      " 'Baking Goods' 'Snack Foods' 'Frozen Foods' 'Breakfast'\n",
      " 'Health and Hygiene' 'Hard Drinks' 'Canned' 'Breads' 'Starchy Foods'\n",
      " 'Others' 'Seafood']\n",
      "\n",
      " Outlet_Identifier \n",
      " ['OUT049' 'OUT018' 'OUT010' 'OUT013' 'OUT027' 'OUT045' 'OUT017' 'OUT046'\n",
      " 'OUT035' 'OUT019']\n",
      "\n",
      " Outlet_Size \n",
      " ['Medium' nan 'High' 'Small']\n",
      "\n",
      " Outlet_Location_Type \n",
      " ['Tier 1' 'Tier 3' 'Tier 2']\n",
      "\n",
      " Outlet_Type \n",
      " ['Supermarket Type1' 'Supermarket Type2' 'Grocery Store'\n",
      " 'Supermarket Type3']\n"
     ]
    }
   ],
   "source": [
    "situations_cat_cols_values_dict = get_unique_cat_values_from_situations(situations)\n",
    "for col in situations_cat_cols_values_dict:\n",
    "    print(\"\\n\", col, \"\\n\", situations_cat_cols_values_dict[col])"
   ]
  },
  {
   "cell_type": "markdown",
   "metadata": {},
   "source": [
    "standardise categoriies to remove duplicates\n",
    "Item_Fat_Content : combine 'Low Fat' 'low fat' 'LF' and 'Regular''reg'"
   ]
  },
  {
   "cell_type": "code",
   "execution_count": 12,
   "metadata": {},
   "outputs": [
    {
     "name": "stdout",
     "output_type": "stream",
     "text": [
      "\n",
      " ['LF' 'reg']\n"
     ]
    }
   ],
   "source": [
    "situations = clean_cat_columns(situations)\n",
    "print(\"\\n\", situations['Item_Fat_Content'].unique())"
   ]
  },
  {
   "cell_type": "markdown",
   "metadata": {},
   "source": [
    "### Cleaning up numerical columns\n",
    "'Item_Weight' 'Item_Visibility' 'Item_MRP' 'Outlet_Establishment_Year'"
   ]
  },
  {
   "cell_type": "code",
   "execution_count": 13,
   "metadata": {},
   "outputs": [
    {
     "name": "stdout",
     "output_type": "stream",
     "text": [
      "['Item_Weight' 'Item_Visibility' 'Item_MRP' 'Outlet_Establishment_Year']\n"
     ]
    }
   ],
   "source": [
    "num_cols = get_num_feature_names(situations)\n",
    "print(num_cols)"
   ]
  },
  {
   "cell_type": "markdown",
   "metadata": {},
   "source": [
    "1. boxplot will show us outliers\n",
    "2. Histogram will show us garbage values\n",
    "3. print unique values of year"
   ]
  },
  {
   "cell_type": "markdown",
   "metadata": {},
   "source": [
    "Outlet_Establishment_Year"
   ]
  },
  {
   "cell_type": "code",
   "execution_count": 14,
   "metadata": {},
   "outputs": [
    {
     "name": "stdout",
     "output_type": "stream",
     "text": [
      "[1985, 1987, 1997, 1998, 1999, 2002, 2004, 2007, 2009]\n"
     ]
    }
   ],
   "source": [
    "print(sorted(situations['Outlet_Establishment_Year'].unique()))"
   ]
  },
  {
   "cell_type": "code",
   "execution_count": 15,
   "metadata": {},
   "outputs": [
    {
     "data": {
      "text/plain": [
       "<BarContainer object of 9 artists>"
      ]
     },
     "execution_count": 15,
     "metadata": {},
     "output_type": "execute_result"
    },
    {
     "data": {
      "image/png": "[encoded data removed]",
      "text/plain": [
       "<Figure size 640x480 with 1 Axes>"
      ]
     },
     "metadata": {},
     "output_type": "display_data"
    }
   ],
   "source": [
    "year_value_counts = situations['Outlet_Establishment_Year'].value_counts()\n",
    "plt.bar(year_value_counts.index, year_value_counts.values)"
   ]
  },
  {
   "cell_type": "markdown",
   "metadata": {},
   "source": [
    "Item_Weight\n",
    "histogram"
   ]
  },
  {
   "cell_type": "code",
   "execution_count": 16,
   "metadata": {},
   "outputs": [
    {
     "data": {
      "text/plain": [
       "(array([483., 870., 865., 664., 779., 629., 755., 735., 677., 603.]),\n",
       " array([ 4.555 ,  6.2345,  7.914 ,  9.5935, 11.273 , 12.9525, 14.632 ,\n",
       "        16.3115, 17.991 , 19.6705, 21.35  ]),\n",
       " <BarContainer object of 10 artists>)"
      ]
     },
     "execution_count": 16,
     "metadata": {},
     "output_type": "execute_result"
    },
    {
     "data": {
      "image/png": "[encoded data removed]",
      "text/plain": [
       "<Figure size 640x480 with 1 Axes>"
      ]
     },
     "metadata": {},
     "output_type": "display_data"
    }
   ],
   "source": [
    "plt.hist(situations['Item_Weight'])"
   ]
  },
  {
   "cell_type": "markdown",
   "metadata": {},
   "source": [
    "Item_Visibility\n",
    "1. hist, boxplot"
   ]
  },
  {
   "cell_type": "code",
   "execution_count": 17,
   "metadata": {},
   "outputs": [
    {
     "data": {
      "text/plain": [
       "(array([2639., 2329., 1563.,  979.,  593.,  279.,   60.,   35.,   29.,\n",
       "          17.]),\n",
       " array([0.        , 0.03283909, 0.06567819, 0.09851728, 0.13135638,\n",
       "        0.16419547, 0.19703457, 0.22987366, 0.26271276, 0.29555185,\n",
       "        0.32839095]),\n",
       " <BarContainer object of 10 artists>)"
      ]
     },
     "execution_count": 17,
     "metadata": {},
     "output_type": "execute_result"
    },
    {
     "data": {
      "image/png": "[encoded data removed]",
      "text/plain": [
       "<Figure size 640x480 with 1 Axes>"
      ]
     },
     "metadata": {},
     "output_type": "display_data"
    }
   ],
   "source": [
    "plt.hist(situations['Item_Visibility'])"
   ]
  },
  {
   "cell_type": "code",
   "execution_count": 18,
   "metadata": {},
   "outputs": [
    {
     "data": {
      "text/plain": [
       "{'whiskers': [<matplotlib.lines.Line2D at 0x17542c3a0>,\n",
       "  <matplotlib.lines.Line2D at 0x17542c6a0>],\n",
       " 'caps': [<matplotlib.lines.Line2D at 0x17542c9a0>,\n",
       "  <matplotlib.lines.Line2D at 0x17542cca0>],\n",
       " 'boxes': [<matplotlib.lines.Line2D at 0x175371ff0>],\n",
       " 'medians': [<matplotlib.lines.Line2D at 0x17542cfa0>],\n",
       " 'fliers': [<matplotlib.lines.Line2D at 0x17542d2a0>],\n",
       " 'means': []}"
      ]
     },
     "execution_count": 18,
     "metadata": {},
     "output_type": "execute_result"
    },
    {
     "data": {
      "image/png": "[encoded data removed]",
      "text/plain": [
       "<Figure size 640x480 with 1 Axes>"
      ]
     },
     "metadata": {},
     "output_type": "display_data"
    }
   ],
   "source": [
    "plt.boxplot(situations['Item_Visibility'])"
   ]
  },
  {
   "cell_type": "markdown",
   "metadata": {},
   "source": [
    "Item_MRP"
   ]
  },
  {
   "cell_type": "code",
   "execution_count": 19,
   "metadata": {},
   "outputs": [
    {
     "data": {
      "text/plain": [
       "(array([ 923.,  573., 1053., 1248.,  804., 1098., 1200.,  480.,  557.,\n",
       "         587.]),\n",
       " array([ 31.29   ,  54.84984,  78.40968, 101.96952, 125.52936, 149.0892 ,\n",
       "        172.64904, 196.20888, 219.76872, 243.32856, 266.8884 ]),\n",
       " <BarContainer object of 10 artists>)"
      ]
     },
     "execution_count": 19,
     "metadata": {},
     "output_type": "execute_result"
    },
    {
     "data": {
      "image/png": "[encoded data removed]",
      "text/plain": [
       "<Figure size 640x480 with 1 Axes>"
      ]
     },
     "metadata": {},
     "output_type": "display_data"
    }
   ],
   "source": [
    "plt.hist(situations['Item_MRP'])"
   ]
  },
  {
   "cell_type": "code",
   "execution_count": 20,
   "metadata": {},
   "outputs": [
    {
     "data": {
      "text/plain": [
       "{'whiskers': [<matplotlib.lines.Line2D at 0x175516920>,\n",
       "  <matplotlib.lines.Line2D at 0x175516c20>],\n",
       " 'caps': [<matplotlib.lines.Line2D at 0x175516f20>,\n",
       "  <matplotlib.lines.Line2D at 0x175517220>],\n",
       " 'boxes': [<matplotlib.lines.Line2D at 0x175516620>],\n",
       " 'medians': [<matplotlib.lines.Line2D at 0x175517520>],\n",
       " 'fliers': [<matplotlib.lines.Line2D at 0x175517820>],\n",
       " 'means': []}"
      ]
     },
     "execution_count": 20,
     "metadata": {},
     "output_type": "execute_result"
    },
    {
     "data": {
      "image/png": "[encoded data removed]",
      "text/plain": [
       "<Figure size 640x480 with 1 Axes>"
      ]
     },
     "metadata": {},
     "output_type": "display_data"
    }
   ],
   "source": [
    "plt.boxplot(situations['Item_MRP'])"
   ]
  },
  {
   "cell_type": "markdown",
   "metadata": {},
   "source": [
    "## Missing Values"
   ]
  },
  {
   "cell_type": "code",
   "execution_count": 21,
   "metadata": {},
   "outputs": [
    {
     "data": {
      "text/plain": [
       "Item_Identifier               0.000000\n",
       "Item_Weight                  17.165317\n",
       "Item_Fat_Content              0.000000\n",
       "Item_Visibility               0.000000\n",
       "Item_Type                     0.000000\n",
       "Item_MRP                      0.000000\n",
       "Outlet_Identifier             0.000000\n",
       "Outlet_Establishment_Year     0.000000\n",
       "Outlet_Size                  28.276428\n",
       "Outlet_Location_Type          0.000000\n",
       "Outlet_Type                   0.000000\n",
       "dtype: float64"
      ]
     },
     "execution_count": 21,
     "metadata": {},
     "output_type": "execute_result"
    }
   ],
   "source": [
    "situations.isna().sum() * 100 / len(situations)"
   ]
  },
  {
   "cell_type": "markdown",
   "metadata": {},
   "source": [
    "Fill missing values in Item_Weight"
   ]
  },
  {
   "cell_type": "markdown",
   "metadata": {},
   "source": [
    " 1. We'll normalize the numerical columns like Item_Visibility and Item_MRP. Finally, we'll apply k-NN imputation. Ww will also use one hot encoded Item_Identifier_encoded, and Item_Type_encoded and label encoded Item_Fat_Content_encoded to estimate the missing values in Item_Weight, experimenting with different values of k to find the best fit.\n",
    "\n",
    " 2. Use itme identifier to fill in weight. Yes, that's exactly right. You'll create a dictionary mapping item identifiers to their weights, then use that dictionary to fill in the missing weights based on the item identifier. It's a straightforward and efficient way to handle the missing data in this case."
   ]
  },
  {
   "cell_type": "code",
   "execution_count": 22,
   "metadata": {},
   "outputs": [
    {
     "name": "stdout",
     "output_type": "stream",
     "text": [
      "1142 1555\n",
      "1138\n"
     ]
    }
   ],
   "source": [
    "# create dict with item identifiers as keys and real weights as values\n",
    "# get item identifers with non missing weights\n",
    "weights_df = situations[~situations['Item_Weight'].isna()][['Item_Identifier', 'Item_Weight']].drop_duplicates()\n",
    "weights_dict = weights_df.set_index('Item_Identifier')['Item_Weight'].to_dict()\n",
    "\n",
    "# create a list of item identifiers with missing weights.\n",
    "missing_weights_items = situations[situations['Item_Weight'].isna()]['Item_Identifier'].drop_duplicates()\n",
    "\n",
    "print(len(missing_weights_items), len(weights_dict))\n",
    "\n",
    "# check if they have weights in the dict\n",
    "found_items = set(missing_weights_items).intersection(set(weights_dict))\n",
    "print(len(found_items))"
   ]
  },
  {
   "cell_type": "markdown",
   "metadata": {},
   "source": [
    "fill the 1138 item weights and just fill the category mean for the reamining 4.\n",
    "The fillna method will just look up those IDs in the dict that are missing the weights. Then it will map the corrsponign weight from the dict \n"
   ]
  },
  {
   "cell_type": "code",
   "execution_count": 23,
   "metadata": {},
   "outputs": [],
   "source": [
    "def fill_missing_item_weight(situations, weights_dict):\n",
    "    situations['Item_Weight'].fillna(situations['Item_Identifier'].map(weights_dict), inplace=True)\n",
    "    situations['Item_Weight'].fillna(situations['Item_Weight'].mean(), inplace=True)\n",
    "\n",
    "    return situations"
   ]
  },
  {
   "cell_type": "code",
   "execution_count": 24,
   "metadata": {},
   "outputs": [
    {
     "data": {
      "text/plain": [
       "Item_Identifier                 0\n",
       "Item_Weight                     0\n",
       "Item_Fat_Content                0\n",
       "Item_Visibility                 0\n",
       "Item_Type                       0\n",
       "Item_MRP                        0\n",
       "Outlet_Identifier               0\n",
       "Outlet_Establishment_Year       0\n",
       "Outlet_Size                  2410\n",
       "Outlet_Location_Type            0\n",
       "Outlet_Type                     0\n",
       "dtype: int64"
      ]
     },
     "execution_count": 24,
     "metadata": {},
     "output_type": "execute_result"
    }
   ],
   "source": [
    "situations = fill_missing_item_weight(situations, weights_dict) \n",
    "situations.isna().sum()"
   ]
  },
  {
   "cell_type": "markdown",
   "metadata": {},
   "source": [
    "Fill missing values in Outlet_Size"
   ]
  },
  {
   "cell_type": "code",
   "execution_count": 25,
   "metadata": {},
   "outputs": [
    {
     "name": "stdout",
     "output_type": "stream",
     "text": [
      "3 7\n",
      "0\n"
     ]
    }
   ],
   "source": [
    "# create dict with item identifiers as keys and real weights as values\n",
    "# get item identifers with non missing weights\n",
    "weights_df = situations[~situations['Outlet_Size'].isna()][['Outlet_Identifier', 'Outlet_Size']].drop_duplicates()\n",
    "weights_dict = weights_df.set_index('Outlet_Identifier')['Outlet_Size'].to_dict()\n",
    "\n",
    "# create a list of item identifiers with missing weights.\n",
    "missing_weights_items = situations[situations['Outlet_Size'].isna()]['Outlet_Identifier'].drop_duplicates()\n",
    "\n",
    "print(len(missing_weights_items), len(weights_dict))\n",
    "\n",
    "# check if they have weights in the dict\n",
    "found_items = set(missing_weights_items).intersection(set(weights_dict))\n",
    "print(len(found_items))"
   ]
  },
  {
   "cell_type": "markdown",
   "metadata": {},
   "source": [
    "Cannot fill outlet size using a map. Unique outlets are missing size. What re thes eoutlet types? What are there years?\n"
   ]
  },
  {
   "cell_type": "markdown",
   "metadata": {},
   "source": [
    "That's correct. Outlet_Identifier won't be necessary for k-NN imputation, and Outlet_Establishment_Year should be normalized. We can use standardization or min-max scaling for that."
   ]
  },
  {
   "cell_type": "markdown",
   "metadata": {},
   "source": [
    "1. with this kn imputation i want your advice so i'm thinking i'll create a new data set with just the outlet features except the outlet identifier and then I'll normalize or whatever you know scale the establishment here so how is that sounding to get started\n",
    "2. "
   ]
  },
  {
   "cell_type": "code",
   "execution_count": 26,
   "metadata": {},
   "outputs": [
    {
     "data": {
      "text/plain": [
       "Index(['Item_Identifier', 'Item_Weight', 'Item_Fat_Content', 'Item_Visibility',\n",
       "       'Item_Type', 'Item_MRP', 'Outlet_Identifier',\n",
       "       'Outlet_Establishment_Year', 'Outlet_Size', 'Outlet_Location_Type',\n",
       "       'Outlet_Type'],\n",
       "      dtype='object')"
      ]
     },
     "execution_count": 26,
     "metadata": {},
     "output_type": "execute_result"
    }
   ],
   "source": [
    "situations.columns"
   ]
  },
  {
   "cell_type": "code",
   "execution_count": 27,
   "metadata": {},
   "outputs": [],
   "source": [
    "outlets = situations[['Outlet_Identifier', 'Outlet_Size','Outlet_Location_Type', \n",
    "            'Outlet_Establishment_Year', 'Outlet_Type']].drop_duplicates()\n",
    "\n",
    "oulets_missing_size = outlets[outlets['Outlet_Size'].isna()]\n",
    "oulets_with_size = outlets[~outlets['Outlet_Size'].isna()]"
   ]
  },
  {
   "cell_type": "code",
   "execution_count": 28,
   "metadata": {},
   "outputs": [
    {
     "data": {
      "text/html": [
       "<div>\n",
       "<style scoped>\n",
       "    .dataframe tbody tr th:only-of-type {\n",
       "        vertical-align: middle;\n",
       "    }\n",
       "\n",
       "    .dataframe tbody tr th {\n",
       "        vertical-align: top;\n",
       "    }\n",
       "\n",
       "    .dataframe thead th {\n",
       "        text-align: right;\n",
       "    }\n",
       "</style>\n",
       "<table border=\"1\" class=\"dataframe\">\n",
       "  <thead>\n",
       "    <tr style=\"text-align: right;\">\n",
       "      <th></th>\n",
       "      <th>Outlet_Identifier</th>\n",
       "      <th>Outlet_Size</th>\n",
       "      <th>Outlet_Location_Type</th>\n",
       "      <th>Outlet_Establishment_Year</th>\n",
       "      <th>Outlet_Type</th>\n",
       "    </tr>\n",
       "  </thead>\n",
       "  <tbody>\n",
       "    <tr>\n",
       "      <th>3</th>\n",
       "      <td>OUT010</td>\n",
       "      <td>NaN</td>\n",
       "      <td>Tier 3</td>\n",
       "      <td>1998</td>\n",
       "      <td>Grocery Store</td>\n",
       "    </tr>\n",
       "    <tr>\n",
       "      <th>8</th>\n",
       "      <td>OUT045</td>\n",
       "      <td>NaN</td>\n",
       "      <td>Tier 2</td>\n",
       "      <td>2002</td>\n",
       "      <td>Supermarket Type1</td>\n",
       "    </tr>\n",
       "    <tr>\n",
       "      <th>9</th>\n",
       "      <td>OUT017</td>\n",
       "      <td>NaN</td>\n",
       "      <td>Tier 2</td>\n",
       "      <td>2007</td>\n",
       "      <td>Supermarket Type1</td>\n",
       "    </tr>\n",
       "  </tbody>\n",
       "</table>\n",
       "</div>"
      ],
      "text/plain": [
       "  Outlet_Identifier Outlet_Size Outlet_Location_Type  \\\n",
       "3            OUT010         NaN               Tier 3   \n",
       "8            OUT045         NaN               Tier 2   \n",
       "9            OUT017         NaN               Tier 2   \n",
       "\n",
       "   Outlet_Establishment_Year        Outlet_Type  \n",
       "3                       1998      Grocery Store  \n",
       "8                       2002  Supermarket Type1  \n",
       "9                       2007  Supermarket Type1  "
      ]
     },
     "execution_count": 28,
     "metadata": {},
     "output_type": "execute_result"
    }
   ],
   "source": [
    "oulets_missing_size"
   ]
  },
  {
   "cell_type": "code",
   "execution_count": 29,
   "metadata": {},
   "outputs": [
    {
     "data": {
      "text/html": [
       "<div>\n",
       "<style scoped>\n",
       "    .dataframe tbody tr th:only-of-type {\n",
       "        vertical-align: middle;\n",
       "    }\n",
       "\n",
       "    .dataframe tbody tr th {\n",
       "        vertical-align: top;\n",
       "    }\n",
       "\n",
       "    .dataframe thead th {\n",
       "        text-align: right;\n",
       "    }\n",
       "</style>\n",
       "<table border=\"1\" class=\"dataframe\">\n",
       "  <thead>\n",
       "    <tr style=\"text-align: right;\">\n",
       "      <th></th>\n",
       "      <th>Outlet_Identifier</th>\n",
       "      <th>Outlet_Size</th>\n",
       "      <th>Outlet_Location_Type</th>\n",
       "      <th>Outlet_Establishment_Year</th>\n",
       "      <th>Outlet_Type</th>\n",
       "    </tr>\n",
       "  </thead>\n",
       "  <tbody>\n",
       "    <tr>\n",
       "      <th>0</th>\n",
       "      <td>OUT049</td>\n",
       "      <td>Medium</td>\n",
       "      <td>Tier 1</td>\n",
       "      <td>1999</td>\n",
       "      <td>Supermarket Type1</td>\n",
       "    </tr>\n",
       "    <tr>\n",
       "      <th>1</th>\n",
       "      <td>OUT018</td>\n",
       "      <td>Medium</td>\n",
       "      <td>Tier 3</td>\n",
       "      <td>2009</td>\n",
       "      <td>Supermarket Type2</td>\n",
       "    </tr>\n",
       "    <tr>\n",
       "      <th>4</th>\n",
       "      <td>OUT013</td>\n",
       "      <td>High</td>\n",
       "      <td>Tier 3</td>\n",
       "      <td>1987</td>\n",
       "      <td>Supermarket Type1</td>\n",
       "    </tr>\n",
       "    <tr>\n",
       "      <th>7</th>\n",
       "      <td>OUT027</td>\n",
       "      <td>Medium</td>\n",
       "      <td>Tier 3</td>\n",
       "      <td>1985</td>\n",
       "      <td>Supermarket Type3</td>\n",
       "    </tr>\n",
       "    <tr>\n",
       "      <th>11</th>\n",
       "      <td>OUT046</td>\n",
       "      <td>Small</td>\n",
       "      <td>Tier 1</td>\n",
       "      <td>1997</td>\n",
       "      <td>Supermarket Type1</td>\n",
       "    </tr>\n",
       "    <tr>\n",
       "      <th>19</th>\n",
       "      <td>OUT035</td>\n",
       "      <td>Small</td>\n",
       "      <td>Tier 2</td>\n",
       "      <td>2004</td>\n",
       "      <td>Supermarket Type1</td>\n",
       "    </tr>\n",
       "    <tr>\n",
       "      <th>23</th>\n",
       "      <td>OUT019</td>\n",
       "      <td>Small</td>\n",
       "      <td>Tier 1</td>\n",
       "      <td>1985</td>\n",
       "      <td>Grocery Store</td>\n",
       "    </tr>\n",
       "  </tbody>\n",
       "</table>\n",
       "</div>"
      ],
      "text/plain": [
       "   Outlet_Identifier Outlet_Size Outlet_Location_Type  \\\n",
       "0             OUT049      Medium               Tier 1   \n",
       "1             OUT018      Medium               Tier 3   \n",
       "4             OUT013        High               Tier 3   \n",
       "7             OUT027      Medium               Tier 3   \n",
       "11            OUT046       Small               Tier 1   \n",
       "19            OUT035       Small               Tier 2   \n",
       "23            OUT019       Small               Tier 1   \n",
       "\n",
       "    Outlet_Establishment_Year        Outlet_Type  \n",
       "0                        1999  Supermarket Type1  \n",
       "1                        2009  Supermarket Type2  \n",
       "4                        1987  Supermarket Type1  \n",
       "7                        1985  Supermarket Type3  \n",
       "11                       1997  Supermarket Type1  \n",
       "19                       2004  Supermarket Type1  \n",
       "23                       1985      Grocery Store  "
      ]
     },
     "execution_count": 29,
     "metadata": {},
     "output_type": "execute_result"
    }
   ],
   "source": [
    "oulets_with_size"
   ]
  },
  {
   "cell_type": "markdown",
   "metadata": {},
   "source": [
    "OUT017 tier 2 outlet of supermarket type that opened in 2007.There is just one oulet OUT035, similar to that. Good thing is its very similar so Ill use this small size to impute. \n",
    "\n",
    "OUT045 tier 2 outlet of supermarket type that opened in 2002. Again using OUT035 size Small.\n",
    "\n",
    "OUT010 is tier 3 grocery in 1998. No similar store. So, I will just medium. "
   ]
  },
  {
   "cell_type": "code",
   "execution_count": 30,
   "metadata": {},
   "outputs": [],
   "source": [
    "def fill_missing_outlet_size(situations):    \n",
    "    situations.loc[situations['Outlet_Identifier'] == 'OUT017', 'Outlet_Size'] = 'Small'\n",
    "    situations.loc[situations['Outlet_Identifier'] == 'OUT045', 'Outlet_Size'] = 'Small'\n",
    "    situations.loc[situations['Outlet_Identifier'] == 'OUT010', 'Outlet_Size'] = 'Medium'\n",
    "\n",
    "    return situations"
   ]
  },
  {
   "cell_type": "code",
   "execution_count": 31,
   "metadata": {},
   "outputs": [],
   "source": [
    "situations = fill_missing_outlet_size(situations)"
   ]
  },
  {
   "cell_type": "code",
   "execution_count": 32,
   "metadata": {},
   "outputs": [
    {
     "data": {
      "text/plain": [
       "Item_Identifier              0\n",
       "Item_Weight                  0\n",
       "Item_Fat_Content             0\n",
       "Item_Visibility              0\n",
       "Item_Type                    0\n",
       "Item_MRP                     0\n",
       "Outlet_Identifier            0\n",
       "Outlet_Establishment_Year    0\n",
       "Outlet_Size                  0\n",
       "Outlet_Location_Type         0\n",
       "Outlet_Type                  0\n",
       "dtype: int64"
      ]
     },
     "execution_count": 32,
     "metadata": {},
     "output_type": "execute_result"
    }
   ],
   "source": [
    "situations.isna().sum()"
   ]
  },
  {
   "cell_type": "markdown",
   "metadata": {},
   "source": [
    "## Outliers"
   ]
  },
  {
   "cell_type": "markdown",
   "metadata": {},
   "source": [
    "## Encoding categorical variables"
   ]
  },
  {
   "cell_type": "code",
   "execution_count": 33,
   "metadata": {
    "vscode": {
     "languageId": "ruby"
    }
   },
   "outputs": [
    {
     "name": "stdout",
     "output_type": "stream",
     "text": [
      "{'Item_Fat_Content': 'label', 'Outlet_Size': 'label', 'Outlet_Location_Type': 'label', 'Item_Identifier': 'label', 'Item_Type': 'onehot', 'Outlet_Type': 'onehot', 'Outlet_Identifier': 'onehot'}\n"
     ]
    }
   ],
   "source": [
    "# Define which columns are ordinal vs. nominal\n",
    "# Identifiers are treated as ordinal here for simplicity, as one-hot encoding them would create too many features.\n",
    "ordinal_cols = ['Item_Fat_Content', 'Outlet_Size', 'Outlet_Location_Type', 'Item_Identifier']\n",
    "nominal_cols = ['Item_Type', 'Outlet_Type', 'Outlet_Identifier']\n",
    "\n",
    "# Create the dictionary to specify encoder types\n",
    "cat_cols_and_encoder_types = {col: 'label' for col in ordinal_cols}\n",
    "cat_cols_and_encoder_types.update({col: 'onehot' for col in nominal_cols})\n",
    "\n",
    "# Display the resulting dictionary\n",
    "print(cat_cols_and_encoder_types)"
   ]
  },
  {
   "cell_type": "code",
   "execution_count": 34,
   "metadata": {},
   "outputs": [
    {
     "name": "stdout",
     "output_type": "stream",
     "text": [
      "Situations cat columns are encoded and added!\n"
     ]
    }
   ],
   "source": [
    "# get categorical features of situations\n",
    "only_situations_cat_cols_before_encoding = get_cat_feature_names(situations)\n",
    "situations, situations_cat_cols_encoders = encode_cat_cols(\n",
    "                                              situations, cat_cols_and_encoder_types)\n",
    "print(\"Situations cat columns are encoded and added!\")"
   ]
  },
  {
   "cell_type": "code",
   "execution_count": 35,
   "metadata": {},
   "outputs": [
    {
     "data": {
      "text/html": [
       "<div>\n",
       "<style scoped>\n",
       "    .dataframe tbody tr th:only-of-type {\n",
       "        vertical-align: middle;\n",
       "    }\n",
       "\n",
       "    .dataframe tbody tr th {\n",
       "        vertical-align: top;\n",
       "    }\n",
       "\n",
       "    .dataframe thead th {\n",
       "        text-align: right;\n",
       "    }\n",
       "</style>\n",
       "<table border=\"1\" class=\"dataframe\">\n",
       "  <thead>\n",
       "    <tr style=\"text-align: right;\">\n",
       "      <th></th>\n",
       "      <th>Item_Identifier</th>\n",
       "      <th>Item_Weight</th>\n",
       "      <th>Item_Fat_Content</th>\n",
       "      <th>Item_Visibility</th>\n",
       "      <th>Item_Type</th>\n",
       "      <th>Item_MRP</th>\n",
       "      <th>Outlet_Identifier</th>\n",
       "      <th>Outlet_Establishment_Year</th>\n",
       "      <th>Outlet_Size</th>\n",
       "      <th>Outlet_Location_Type</th>\n",
       "      <th>...</th>\n",
       "      <th>Outlet_Identifier_encoded_OUT010</th>\n",
       "      <th>Outlet_Identifier_encoded_OUT013</th>\n",
       "      <th>Outlet_Identifier_encoded_OUT017</th>\n",
       "      <th>Outlet_Identifier_encoded_OUT018</th>\n",
       "      <th>Outlet_Identifier_encoded_OUT019</th>\n",
       "      <th>Outlet_Identifier_encoded_OUT027</th>\n",
       "      <th>Outlet_Identifier_encoded_OUT035</th>\n",
       "      <th>Outlet_Identifier_encoded_OUT045</th>\n",
       "      <th>Outlet_Identifier_encoded_OUT046</th>\n",
       "      <th>Outlet_Identifier_encoded_OUT049</th>\n",
       "    </tr>\n",
       "  </thead>\n",
       "  <tbody>\n",
       "    <tr>\n",
       "      <th>0</th>\n",
       "      <td>FDA15</td>\n",
       "      <td>9.300</td>\n",
       "      <td>LF</td>\n",
       "      <td>0.016047</td>\n",
       "      <td>Dairy</td>\n",
       "      <td>249.8092</td>\n",
       "      <td>OUT049</td>\n",
       "      <td>1999</td>\n",
       "      <td>Medium</td>\n",
       "      <td>Tier 1</td>\n",
       "      <td>...</td>\n",
       "      <td>0.0</td>\n",
       "      <td>0.0</td>\n",
       "      <td>0.0</td>\n",
       "      <td>0.0</td>\n",
       "      <td>0.0</td>\n",
       "      <td>0.0</td>\n",
       "      <td>0.0</td>\n",
       "      <td>0.0</td>\n",
       "      <td>0.0</td>\n",
       "      <td>1.0</td>\n",
       "    </tr>\n",
       "    <tr>\n",
       "      <th>1</th>\n",
       "      <td>DRC01</td>\n",
       "      <td>5.920</td>\n",
       "      <td>reg</td>\n",
       "      <td>0.019278</td>\n",
       "      <td>Soft Drinks</td>\n",
       "      <td>48.2692</td>\n",
       "      <td>OUT018</td>\n",
       "      <td>2009</td>\n",
       "      <td>Medium</td>\n",
       "      <td>Tier 3</td>\n",
       "      <td>...</td>\n",
       "      <td>0.0</td>\n",
       "      <td>0.0</td>\n",
       "      <td>0.0</td>\n",
       "      <td>1.0</td>\n",
       "      <td>0.0</td>\n",
       "      <td>0.0</td>\n",
       "      <td>0.0</td>\n",
       "      <td>0.0</td>\n",
       "      <td>0.0</td>\n",
       "      <td>0.0</td>\n",
       "    </tr>\n",
       "    <tr>\n",
       "      <th>2</th>\n",
       "      <td>FDN15</td>\n",
       "      <td>17.500</td>\n",
       "      <td>LF</td>\n",
       "      <td>0.016760</td>\n",
       "      <td>Meat</td>\n",
       "      <td>141.6180</td>\n",
       "      <td>OUT049</td>\n",
       "      <td>1999</td>\n",
       "      <td>Medium</td>\n",
       "      <td>Tier 1</td>\n",
       "      <td>...</td>\n",
       "      <td>0.0</td>\n",
       "      <td>0.0</td>\n",
       "      <td>0.0</td>\n",
       "      <td>0.0</td>\n",
       "      <td>0.0</td>\n",
       "      <td>0.0</td>\n",
       "      <td>0.0</td>\n",
       "      <td>0.0</td>\n",
       "      <td>0.0</td>\n",
       "      <td>1.0</td>\n",
       "    </tr>\n",
       "    <tr>\n",
       "      <th>3</th>\n",
       "      <td>FDX07</td>\n",
       "      <td>19.200</td>\n",
       "      <td>reg</td>\n",
       "      <td>0.000000</td>\n",
       "      <td>Fruits and Vegetables</td>\n",
       "      <td>182.0950</td>\n",
       "      <td>OUT010</td>\n",
       "      <td>1998</td>\n",
       "      <td>Medium</td>\n",
       "      <td>Tier 3</td>\n",
       "      <td>...</td>\n",
       "      <td>1.0</td>\n",
       "      <td>0.0</td>\n",
       "      <td>0.0</td>\n",
       "      <td>0.0</td>\n",
       "      <td>0.0</td>\n",
       "      <td>0.0</td>\n",
       "      <td>0.0</td>\n",
       "      <td>0.0</td>\n",
       "      <td>0.0</td>\n",
       "      <td>0.0</td>\n",
       "    </tr>\n",
       "    <tr>\n",
       "      <th>4</th>\n",
       "      <td>NCD19</td>\n",
       "      <td>8.930</td>\n",
       "      <td>LF</td>\n",
       "      <td>0.000000</td>\n",
       "      <td>Household</td>\n",
       "      <td>53.8614</td>\n",
       "      <td>OUT013</td>\n",
       "      <td>1987</td>\n",
       "      <td>High</td>\n",
       "      <td>Tier 3</td>\n",
       "      <td>...</td>\n",
       "      <td>0.0</td>\n",
       "      <td>1.0</td>\n",
       "      <td>0.0</td>\n",
       "      <td>0.0</td>\n",
       "      <td>0.0</td>\n",
       "      <td>0.0</td>\n",
       "      <td>0.0</td>\n",
       "      <td>0.0</td>\n",
       "      <td>0.0</td>\n",
       "      <td>0.0</td>\n",
       "    </tr>\n",
       "    <tr>\n",
       "      <th>...</th>\n",
       "      <td>...</td>\n",
       "      <td>...</td>\n",
       "      <td>...</td>\n",
       "      <td>...</td>\n",
       "      <td>...</td>\n",
       "      <td>...</td>\n",
       "      <td>...</td>\n",
       "      <td>...</td>\n",
       "      <td>...</td>\n",
       "      <td>...</td>\n",
       "      <td>...</td>\n",
       "      <td>...</td>\n",
       "      <td>...</td>\n",
       "      <td>...</td>\n",
       "      <td>...</td>\n",
       "      <td>...</td>\n",
       "      <td>...</td>\n",
       "      <td>...</td>\n",
       "      <td>...</td>\n",
       "      <td>...</td>\n",
       "      <td>...</td>\n",
       "    </tr>\n",
       "    <tr>\n",
       "      <th>8518</th>\n",
       "      <td>FDF22</td>\n",
       "      <td>6.865</td>\n",
       "      <td>LF</td>\n",
       "      <td>0.056783</td>\n",
       "      <td>Snack Foods</td>\n",
       "      <td>214.5218</td>\n",
       "      <td>OUT013</td>\n",
       "      <td>1987</td>\n",
       "      <td>High</td>\n",
       "      <td>Tier 3</td>\n",
       "      <td>...</td>\n",
       "      <td>0.0</td>\n",
       "      <td>1.0</td>\n",
       "      <td>0.0</td>\n",
       "      <td>0.0</td>\n",
       "      <td>0.0</td>\n",
       "      <td>0.0</td>\n",
       "      <td>0.0</td>\n",
       "      <td>0.0</td>\n",
       "      <td>0.0</td>\n",
       "      <td>0.0</td>\n",
       "    </tr>\n",
       "    <tr>\n",
       "      <th>8519</th>\n",
       "      <td>FDS36</td>\n",
       "      <td>8.380</td>\n",
       "      <td>reg</td>\n",
       "      <td>0.046982</td>\n",
       "      <td>Baking Goods</td>\n",
       "      <td>108.1570</td>\n",
       "      <td>OUT045</td>\n",
       "      <td>2002</td>\n",
       "      <td>Small</td>\n",
       "      <td>Tier 2</td>\n",
       "      <td>...</td>\n",
       "      <td>0.0</td>\n",
       "      <td>0.0</td>\n",
       "      <td>0.0</td>\n",
       "      <td>0.0</td>\n",
       "      <td>0.0</td>\n",
       "      <td>0.0</td>\n",
       "      <td>0.0</td>\n",
       "      <td>1.0</td>\n",
       "      <td>0.0</td>\n",
       "      <td>0.0</td>\n",
       "    </tr>\n",
       "    <tr>\n",
       "      <th>8520</th>\n",
       "      <td>NCJ29</td>\n",
       "      <td>10.600</td>\n",
       "      <td>LF</td>\n",
       "      <td>0.035186</td>\n",
       "      <td>Health and Hygiene</td>\n",
       "      <td>85.1224</td>\n",
       "      <td>OUT035</td>\n",
       "      <td>2004</td>\n",
       "      <td>Small</td>\n",
       "      <td>Tier 2</td>\n",
       "      <td>...</td>\n",
       "      <td>0.0</td>\n",
       "      <td>0.0</td>\n",
       "      <td>0.0</td>\n",
       "      <td>0.0</td>\n",
       "      <td>0.0</td>\n",
       "      <td>0.0</td>\n",
       "      <td>1.0</td>\n",
       "      <td>0.0</td>\n",
       "      <td>0.0</td>\n",
       "      <td>0.0</td>\n",
       "    </tr>\n",
       "    <tr>\n",
       "      <th>8521</th>\n",
       "      <td>FDN46</td>\n",
       "      <td>7.210</td>\n",
       "      <td>reg</td>\n",
       "      <td>0.145221</td>\n",
       "      <td>Snack Foods</td>\n",
       "      <td>103.1332</td>\n",
       "      <td>OUT018</td>\n",
       "      <td>2009</td>\n",
       "      <td>Medium</td>\n",
       "      <td>Tier 3</td>\n",
       "      <td>...</td>\n",
       "      <td>0.0</td>\n",
       "      <td>0.0</td>\n",
       "      <td>0.0</td>\n",
       "      <td>1.0</td>\n",
       "      <td>0.0</td>\n",
       "      <td>0.0</td>\n",
       "      <td>0.0</td>\n",
       "      <td>0.0</td>\n",
       "      <td>0.0</td>\n",
       "      <td>0.0</td>\n",
       "    </tr>\n",
       "    <tr>\n",
       "      <th>8522</th>\n",
       "      <td>DRG01</td>\n",
       "      <td>14.800</td>\n",
       "      <td>LF</td>\n",
       "      <td>0.044878</td>\n",
       "      <td>Soft Drinks</td>\n",
       "      <td>75.4670</td>\n",
       "      <td>OUT046</td>\n",
       "      <td>1997</td>\n",
       "      <td>Small</td>\n",
       "      <td>Tier 1</td>\n",
       "      <td>...</td>\n",
       "      <td>0.0</td>\n",
       "      <td>0.0</td>\n",
       "      <td>0.0</td>\n",
       "      <td>0.0</td>\n",
       "      <td>0.0</td>\n",
       "      <td>0.0</td>\n",
       "      <td>0.0</td>\n",
       "      <td>0.0</td>\n",
       "      <td>1.0</td>\n",
       "      <td>0.0</td>\n",
       "    </tr>\n",
       "  </tbody>\n",
       "</table>\n",
       "<p>8523 rows × 45 columns</p>\n",
       "</div>"
      ],
      "text/plain": [
       "     Item_Identifier  Item_Weight Item_Fat_Content  Item_Visibility  \\\n",
       "0              FDA15        9.300               LF         0.016047   \n",
       "1              DRC01        5.920              reg         0.019278   \n",
       "2              FDN15       17.500               LF         0.016760   \n",
       "3              FDX07       19.200              reg         0.000000   \n",
       "4              NCD19        8.930               LF         0.000000   \n",
       "...              ...          ...              ...              ...   \n",
       "8518           FDF22        6.865               LF         0.056783   \n",
       "8519           FDS36        8.380              reg         0.046982   \n",
       "8520           NCJ29       10.600               LF         0.035186   \n",
       "8521           FDN46        7.210              reg         0.145221   \n",
       "8522           DRG01       14.800               LF         0.044878   \n",
       "\n",
       "                  Item_Type  Item_MRP Outlet_Identifier  \\\n",
       "0                     Dairy  249.8092            OUT049   \n",
       "1               Soft Drinks   48.2692            OUT018   \n",
       "2                      Meat  141.6180            OUT049   \n",
       "3     Fruits and Vegetables  182.0950            OUT010   \n",
       "4                 Household   53.8614            OUT013   \n",
       "...                     ...       ...               ...   \n",
       "8518            Snack Foods  214.5218            OUT013   \n",
       "8519           Baking Goods  108.1570            OUT045   \n",
       "8520     Health and Hygiene   85.1224            OUT035   \n",
       "8521            Snack Foods  103.1332            OUT018   \n",
       "8522            Soft Drinks   75.4670            OUT046   \n",
       "\n",
       "      Outlet_Establishment_Year Outlet_Size Outlet_Location_Type  ...  \\\n",
       "0                          1999      Medium               Tier 1  ...   \n",
       "1                          2009      Medium               Tier 3  ...   \n",
       "2                          1999      Medium               Tier 1  ...   \n",
       "3                          1998      Medium               Tier 3  ...   \n",
       "4                          1987        High               Tier 3  ...   \n",
       "...                         ...         ...                  ...  ...   \n",
       "8518                       1987        High               Tier 3  ...   \n",
       "8519                       2002       Small               Tier 2  ...   \n",
       "8520                       2004       Small               Tier 2  ...   \n",
       "8521                       2009      Medium               Tier 3  ...   \n",
       "8522                       1997       Small               Tier 1  ...   \n",
       "\n",
       "     Outlet_Identifier_encoded_OUT010  Outlet_Identifier_encoded_OUT013  \\\n",
       "0                                 0.0                               0.0   \n",
       "1                                 0.0                               0.0   \n",
       "2                                 0.0                               0.0   \n",
       "3                                 1.0                               0.0   \n",
       "4                                 0.0                               1.0   \n",
       "...                               ...                               ...   \n",
       "8518                              0.0                               1.0   \n",
       "8519                              0.0                               0.0   \n",
       "8520                              0.0                               0.0   \n",
       "8521                              0.0                               0.0   \n",
       "8522                              0.0                               0.0   \n",
       "\n",
       "      Outlet_Identifier_encoded_OUT017  Outlet_Identifier_encoded_OUT018  \\\n",
       "0                                  0.0                               0.0   \n",
       "1                                  0.0                               1.0   \n",
       "2                                  0.0                               0.0   \n",
       "3                                  0.0                               0.0   \n",
       "4                                  0.0                               0.0   \n",
       "...                                ...                               ...   \n",
       "8518                               0.0                               0.0   \n",
       "8519                               0.0                               0.0   \n",
       "8520                               0.0                               0.0   \n",
       "8521                               0.0                               1.0   \n",
       "8522                               0.0                               0.0   \n",
       "\n",
       "      Outlet_Identifier_encoded_OUT019  Outlet_Identifier_encoded_OUT027  \\\n",
       "0                                  0.0                               0.0   \n",
       "1                                  0.0                               0.0   \n",
       "2                                  0.0                               0.0   \n",
       "3                                  0.0                               0.0   \n",
       "4                                  0.0                               0.0   \n",
       "...                                ...                               ...   \n",
       "8518                               0.0                               0.0   \n",
       "8519                               0.0                               0.0   \n",
       "8520                               0.0                               0.0   \n",
       "8521                               0.0                               0.0   \n",
       "8522                               0.0                               0.0   \n",
       "\n",
       "      Outlet_Identifier_encoded_OUT035  Outlet_Identifier_encoded_OUT045  \\\n",
       "0                                  0.0                               0.0   \n",
       "1                                  0.0                               0.0   \n",
       "2                                  0.0                               0.0   \n",
       "3                                  0.0                               0.0   \n",
       "4                                  0.0                               0.0   \n",
       "...                                ...                               ...   \n",
       "8518                               0.0                               0.0   \n",
       "8519                               0.0                               1.0   \n",
       "8520                               1.0                               0.0   \n",
       "8521                               0.0                               0.0   \n",
       "8522                               0.0                               0.0   \n",
       "\n",
       "      Outlet_Identifier_encoded_OUT046  Outlet_Identifier_encoded_OUT049  \n",
       "0                                  0.0                               1.0  \n",
       "1                                  0.0                               0.0  \n",
       "2                                  0.0                               1.0  \n",
       "3                                  0.0                               0.0  \n",
       "4                                  0.0                               0.0  \n",
       "...                                ...                               ...  \n",
       "8518                               0.0                               0.0  \n",
       "8519                               0.0                               0.0  \n",
       "8520                               0.0                               0.0  \n",
       "8521                               0.0                               0.0  \n",
       "8522                               1.0                               0.0  \n",
       "\n",
       "[8523 rows x 45 columns]"
      ]
     },
     "execution_count": 35,
     "metadata": {},
     "output_type": "execute_result"
    }
   ],
   "source": [
    "situations"
   ]
  },
  {
   "cell_type": "code",
   "execution_count": 36,
   "metadata": {
    "tags": [
     "non canon"
    ]
   },
   "outputs": [],
   "source": [
    "# # check number of stores and their presence in stores\n",
    "# items_sell_in_number_of_stores = situations.groupby('Item_Identifier')['Outlet_Identifier'].count()\n",
    "# print(len(items_sell_in_number_of_stores))\n",
    "# print(items_sell_in_number_of_stores.describe())"
   ]
  },
  {
   "cell_type": "markdown",
   "metadata": {},
   "source": [
    "Every item sells in 1-10 stores. Most items sell around 5 number of stores."
   ]
  },
  {
   "cell_type": "markdown",
   "metadata": {},
   "source": [
    "column names after encoding"
   ]
  },
  {
   "cell_type": "code",
   "execution_count": 37,
   "metadata": {},
   "outputs": [
    {
     "name": "stdout",
     "output_type": "stream",
     "text": [
      "Situations columns after encoding all the categorical columns has these columns\n",
      "________________________________________________________________________________\n",
      "['Item_Identifier' 'Item_Weight' 'Item_Fat_Content' 'Item_Visibility'\n",
      " 'Item_Type' 'Item_MRP' 'Outlet_Identifier' 'Outlet_Establishment_Year'\n",
      " 'Outlet_Size' 'Outlet_Location_Type' 'Outlet_Type'\n",
      " 'Item_Fat_Content_encoded' 'Outlet_Size_encoded'\n",
      " 'Outlet_Location_Type_encoded' 'Item_Identifier_encoded'\n",
      " 'Item_Type_encoded_Baking Goods' 'Item_Type_encoded_Breads'\n",
      " 'Item_Type_encoded_Breakfast' 'Item_Type_encoded_Canned'\n",
      " 'Item_Type_encoded_Dairy' 'Item_Type_encoded_Frozen Foods'\n",
      " 'Item_Type_encoded_Fruits and Vegetables' 'Item_Type_encoded_Hard Drinks'\n",
      " 'Item_Type_encoded_Health and Hygiene' 'Item_Type_encoded_Household'\n",
      " 'Item_Type_encoded_Meat' 'Item_Type_encoded_Others'\n",
      " 'Item_Type_encoded_Seafood' 'Item_Type_encoded_Snack Foods'\n",
      " 'Item_Type_encoded_Soft Drinks' 'Item_Type_encoded_Starchy Foods'\n",
      " 'Outlet_Type_encoded_Grocery Store'\n",
      " 'Outlet_Type_encoded_Supermarket Type1'\n",
      " 'Outlet_Type_encoded_Supermarket Type2'\n",
      " 'Outlet_Type_encoded_Supermarket Type3'\n",
      " 'Outlet_Identifier_encoded_OUT010' 'Outlet_Identifier_encoded_OUT013'\n",
      " 'Outlet_Identifier_encoded_OUT017' 'Outlet_Identifier_encoded_OUT018'\n",
      " 'Outlet_Identifier_encoded_OUT019' 'Outlet_Identifier_encoded_OUT027'\n",
      " 'Outlet_Identifier_encoded_OUT035' 'Outlet_Identifier_encoded_OUT045'\n",
      " 'Outlet_Identifier_encoded_OUT046' 'Outlet_Identifier_encoded_OUT049']\n",
      "\n",
      "\n",
      "Situations column names after removing original unencoded cat columns\n",
      "________________________________________________________________________________\n",
      "['Item_Weight', 'Item_Visibility', 'Item_MRP', 'Outlet_Establishment_Year', 'Item_Fat_Content_encoded', 'Outlet_Size_encoded', 'Outlet_Location_Type_encoded', 'Item_Identifier_encoded', 'Item_Type_encoded_Baking Goods', 'Item_Type_encoded_Breads', 'Item_Type_encoded_Breakfast', 'Item_Type_encoded_Canned', 'Item_Type_encoded_Dairy', 'Item_Type_encoded_Frozen Foods', 'Item_Type_encoded_Fruits and Vegetables', 'Item_Type_encoded_Hard Drinks', 'Item_Type_encoded_Health and Hygiene', 'Item_Type_encoded_Household', 'Item_Type_encoded_Meat', 'Item_Type_encoded_Others', 'Item_Type_encoded_Seafood', 'Item_Type_encoded_Snack Foods', 'Item_Type_encoded_Soft Drinks', 'Item_Type_encoded_Starchy Foods', 'Outlet_Type_encoded_Grocery Store', 'Outlet_Type_encoded_Supermarket Type1', 'Outlet_Type_encoded_Supermarket Type2', 'Outlet_Type_encoded_Supermarket Type3', 'Outlet_Identifier_encoded_OUT010', 'Outlet_Identifier_encoded_OUT013', 'Outlet_Identifier_encoded_OUT017', 'Outlet_Identifier_encoded_OUT018', 'Outlet_Identifier_encoded_OUT019', 'Outlet_Identifier_encoded_OUT027', 'Outlet_Identifier_encoded_OUT035', 'Outlet_Identifier_encoded_OUT045', 'Outlet_Identifier_encoded_OUT046', 'Outlet_Identifier_encoded_OUT049'] \n",
      "\n",
      "\n",
      "Total number of columns names after encoding is 45\n",
      "\n",
      "Number of original unencoded categorical columns names is 7\n",
      "\n",
      "Number of column names after removing unecoded columns 38\n"
     ]
    }
   ],
   "source": [
    "# Check all the columns in situations. It has both encoded and raw columns\n",
    "print(\"Situations columns after encoding all the categorical columns has these columns\")\n",
    "print('_'*80)\n",
    "all_situations_columns_after_encoding = situations.columns.values\n",
    "print(all_situations_columns_after_encoding)\n",
    "\n",
    "# Seperate columns that are not in raw cat columns. So, non-cat and encoded cat will be in features\n",
    "only_situations_features_after_encoding = [col for col in all_situations_columns_after_encoding if col not in only_situations_cat_cols_before_encoding]\n",
    "print(\"\\n\\nSituations column names after removing original unencoded cat columns\")\n",
    "print('_' * 80)\n",
    "print(only_situations_features_after_encoding, \"\\n\")\n",
    "\n",
    "# Check number of columns before and after removing\n",
    "print(f\"\\nTotal number of columns names after encoding is {len(all_situations_columns_after_encoding)}\")\n",
    "print(\"\\nNumber of original unencoded categorical columns names is\", len(only_situations_cat_cols_before_encoding))\n",
    "print(f\"\\nNumber of column names after removing unecoded columns {len(only_situations_features_after_encoding)}\")"
   ]
  },
  {
   "cell_type": "markdown",
   "metadata": {},
   "source": [
    "## Modelling"
   ]
  },
  {
   "cell_type": "code",
   "execution_count": 38,
   "metadata": {},
   "outputs": [],
   "source": [
    "situations_all_columns = situations.copy()\n",
    "situations = situations[only_situations_features_after_encoding]"
   ]
  },
  {
   "cell_type": "code",
   "execution_count": null,
   "metadata": {},
   "outputs": [
    {
     "name": "stdout",
     "output_type": "stream",
     "text": [
      "LightGBM RMSE: 900.4257364265759\n",
      "LightGBM MAPE: 0.5038499995710761\n",
      "Random Forest RMSE: 421.3046741102831\n",
      "Random Forest MAPE: 0.21098223390614615\n",
      "XGBoost RMSE: 662.3930941506362\n",
      "XGBoost MAPE: 0.39078428947546706\n"
     ]
    }
   ],
   "source": [
    "# Fit the model and see train error\n",
    "model = LGBMRegressor()\n",
    "trained_model = model.fit(situations, business)\n",
    "predictions = trained_model.predict(situations)\n",
    "print(\"LightGBM RMSE:\", np.sqrt(mean_squared_error(business, predictions)))\n",
    "print(\"LightGBM MAPE:\", mean_absolute_percentage_error(business, predictions))\n",
    "\n",
    "# Experiment with Random Forest and XGBoost models\n",
    "from sklearn.ensemble import RandomForestRegressor\n",
    "from xgboost import XGBRegressor\n",
    "\n",
    "# Random Forest Model\n",
    "model_rf = RandomForestRegressor(random_state=42)\n",
    "trained_model_rf = model_rf.fit(situations, business)\n",
    "predictions_rf = trained_model_rf.predict(situations)\n",
    "print(\"Random Forest RMSE:\", np.sqrt(mean_squared_error(business, predictions_rf)))\n",
    "print(\"Random Forest MAPE:\", mean_absolute_percentage_error(business, predictions_rf))\n",
    "\n",
    "# XGBoost Model\n",
    "model_xgb = XGBRegressor(random_state=42)\n",
    "trained_model_xgb = model_xgb.fit(situations, business)\n",
    "predictions_xgb = trained_model_xgb.predict(situations)\n",
    "print(\"XGBoost RMSE:\", np.sqrt(mean_squared_error(business, predictions_xgb)))\n",
    "print(\"XGBoost MAPE:\", mean_absolute_percentage_error(business, predictions_xgb))"
   ]
  },
  {
   "cell_type": "code",
   "execution_count": 44,
   "metadata": {},
   "outputs": [],
   "source": [
    "import warnings\n",
    "\n",
    "warnings.filterwarnings('ignore')"
   ]
  },
  {
   "cell_type": "code",
   "execution_count": 45,
   "metadata": {},
   "outputs": [
    {
     "name": "stderr",
     "output_type": "stream",
     "text": [
      "/opt/homebrew/Caskroom/miniforge/base/envs/cpfr-factory/lib/python3.10/site-packages/sklearn/ensemble/_forest.py:413: FutureWarning: `max_features='auto'` has been deprecated in 1.1 and will be removed in 1.3. To keep the past behaviour, explicitly set `max_features=1.0` or remove this parameter as it is also the default value for RandomForestRegressors and ExtraTreesRegressors.\n",
      "  warn(\n",
      "/opt/homebrew/Caskroom/miniforge/base/envs/cpfr-factory/lib/python3.10/site-packages/sklearn/ensemble/_forest.py:413: FutureWarning: `max_features='auto'` has been deprecated in 1.1 and will be removed in 1.3. To keep the past behaviour, explicitly set `max_features=1.0` or remove this parameter as it is also the default value for RandomForestRegressors and ExtraTreesRegressors.\n",
      "  warn(\n",
      "/opt/homebrew/Caskroom/miniforge/base/envs/cpfr-factory/lib/python3.10/site-packages/sklearn/ensemble/_forest.py:413: FutureWarning: `max_features='auto'` has been deprecated in 1.1 and will be removed in 1.3. To keep the past behaviour, explicitly set `max_features=1.0` or remove this parameter as it is also the default value for RandomForestRegressors and ExtraTreesRegressors.\n",
      "  warn(\n",
      "/opt/homebrew/Caskroom/miniforge/base/envs/cpfr-factory/lib/python3.10/site-packages/sklearn/ensemble/_forest.py:413: FutureWarning: `max_features='auto'` has been deprecated in 1.1 and will be removed in 1.3. To keep the past behaviour, explicitly set `max_features=1.0` or remove this parameter as it is also the default value for RandomForestRegressors and ExtraTreesRegressors.\n",
      "  warn(\n",
      "/opt/homebrew/Caskroom/miniforge/base/envs/cpfr-factory/lib/python3.10/site-packages/sklearn/ensemble/_forest.py:413: FutureWarning: `max_features='auto'` has been deprecated in 1.1 and will be removed in 1.3. To keep the past behaviour, explicitly set `max_features=1.0` or remove this parameter as it is also the default value for RandomForestRegressors and ExtraTreesRegressors.\n",
      "  warn(\n",
      "/opt/homebrew/Caskroom/miniforge/base/envs/cpfr-factory/lib/python3.10/site-packages/sklearn/ensemble/_forest.py:413: FutureWarning: `max_features='auto'` has been deprecated in 1.1 and will be removed in 1.3. To keep the past behaviour, explicitly set `max_features=1.0` or remove this parameter as it is also the default value for RandomForestRegressors and ExtraTreesRegressors.\n",
      "  warn(\n",
      "/opt/homebrew/Caskroom/miniforge/base/envs/cpfr-factory/lib/python3.10/site-packages/sklearn/ensemble/_forest.py:413: FutureWarning: `max_features='auto'` has been deprecated in 1.1 and will be removed in 1.3. To keep the past behaviour, explicitly set `max_features=1.0` or remove this parameter as it is also the default value for RandomForestRegressors and ExtraTreesRegressors.\n",
      "  warn(\n",
      "/opt/homebrew/Caskroom/miniforge/base/envs/cpfr-factory/lib/python3.10/site-packages/sklearn/ensemble/_forest.py:413: FutureWarning: `max_features='auto'` has been deprecated in 1.1 and will be removed in 1.3. To keep the past behaviour, explicitly set `max_features=1.0` or remove this parameter as it is also the default value for RandomForestRegressors and ExtraTreesRegressors.\n",
      "  warn(\n",
      "/opt/homebrew/Caskroom/miniforge/base/envs/cpfr-factory/lib/python3.10/site-packages/sklearn/ensemble/_forest.py:413: FutureWarning: `max_features='auto'` has been deprecated in 1.1 and will be removed in 1.3. To keep the past behaviour, explicitly set `max_features=1.0` or remove this parameter as it is also the default value for RandomForestRegressors and ExtraTreesRegressors.\n",
      "  warn(\n",
      "/opt/homebrew/Caskroom/miniforge/base/envs/cpfr-factory/lib/python3.10/site-packages/sklearn/ensemble/_forest.py:413: FutureWarning: `max_features='auto'` has been deprecated in 1.1 and will be removed in 1.3. To keep the past behaviour, explicitly set `max_features=1.0` or remove this parameter as it is also the default value for RandomForestRegressors and ExtraTreesRegressors.\n",
      "  warn(\n",
      "/opt/homebrew/Caskroom/miniforge/base/envs/cpfr-factory/lib/python3.10/site-packages/sklearn/ensemble/_forest.py:413: FutureWarning: `max_features='auto'` has been deprecated in 1.1 and will be removed in 1.3. To keep the past behaviour, explicitly set `max_features=1.0` or remove this parameter as it is also the default value for RandomForestRegressors and ExtraTreesRegressors.\n",
      "  warn(\n",
      "/opt/homebrew/Caskroom/miniforge/base/envs/cpfr-factory/lib/python3.10/site-packages/sklearn/ensemble/_forest.py:413: FutureWarning: `max_features='auto'` has been deprecated in 1.1 and will be removed in 1.3. To keep the past behaviour, explicitly set `max_features=1.0` or remove this parameter as it is also the default value for RandomForestRegressors and ExtraTreesRegressors.\n",
      "  warn(\n",
      "/opt/homebrew/Caskroom/miniforge/base/envs/cpfr-factory/lib/python3.10/site-packages/sklearn/ensemble/_forest.py:413: FutureWarning: `max_features='auto'` has been deprecated in 1.1 and will be removed in 1.3. To keep the past behaviour, explicitly set `max_features=1.0` or remove this parameter as it is also the default value for RandomForestRegressors and ExtraTreesRegressors.\n",
      "  warn(\n",
      "/opt/homebrew/Caskroom/miniforge/base/envs/cpfr-factory/lib/python3.10/site-packages/sklearn/ensemble/_forest.py:413: FutureWarning: `max_features='auto'` has been deprecated in 1.1 and will be removed in 1.3. To keep the past behaviour, explicitly set `max_features=1.0` or remove this parameter as it is also the default value for RandomForestRegressors and ExtraTreesRegressors.\n",
      "  warn(\n",
      "/opt/homebrew/Caskroom/miniforge/base/envs/cpfr-factory/lib/python3.10/site-packages/sklearn/ensemble/_forest.py:413: FutureWarning: `max_features='auto'` has been deprecated in 1.1 and will be removed in 1.3. To keep the past behaviour, explicitly set `max_features=1.0` or remove this parameter as it is also the default value for RandomForestRegressors and ExtraTreesRegressors.\n",
      "  warn(\n",
      "/opt/homebrew/Caskroom/miniforge/base/envs/cpfr-factory/lib/python3.10/site-packages/sklearn/ensemble/_forest.py:413: FutureWarning: `max_features='auto'` has been deprecated in 1.1 and will be removed in 1.3. To keep the past behaviour, explicitly set `max_features=1.0` or remove this parameter as it is also the default value for RandomForestRegressors and ExtraTreesRegressors.\n",
      "  warn(\n",
      "/opt/homebrew/Caskroom/miniforge/base/envs/cpfr-factory/lib/python3.10/site-packages/sklearn/ensemble/_forest.py:413: FutureWarning: `max_features='auto'` has been deprecated in 1.1 and will be removed in 1.3. To keep the past behaviour, explicitly set `max_features=1.0` or remove this parameter as it is also the default value for RandomForestRegressors and ExtraTreesRegressors.\n",
      "  warn(\n",
      "/opt/homebrew/Caskroom/miniforge/base/envs/cpfr-factory/lib/python3.10/site-packages/sklearn/ensemble/_forest.py:413: FutureWarning: `max_features='auto'` has been deprecated in 1.1 and will be removed in 1.3. To keep the past behaviour, explicitly set `max_features=1.0` or remove this parameter as it is also the default value for RandomForestRegressors and ExtraTreesRegressors.\n",
      "  warn(\n",
      "/opt/homebrew/Caskroom/miniforge/base/envs/cpfr-factory/lib/python3.10/site-packages/sklearn/ensemble/_forest.py:413: FutureWarning: `max_features='auto'` has been deprecated in 1.1 and will be removed in 1.3. To keep the past behaviour, explicitly set `max_features=1.0` or remove this parameter as it is also the default value for RandomForestRegressors and ExtraTreesRegressors.\n",
      "  warn(\n",
      "/opt/homebrew/Caskroom/miniforge/base/envs/cpfr-factory/lib/python3.10/site-packages/sklearn/ensemble/_forest.py:413: FutureWarning: `max_features='auto'` has been deprecated in 1.1 and will be removed in 1.3. To keep the past behaviour, explicitly set `max_features=1.0` or remove this parameter as it is also the default value for RandomForestRegressors and ExtraTreesRegressors.\n",
      "  warn(\n",
      "/opt/homebrew/Caskroom/miniforge/base/envs/cpfr-factory/lib/python3.10/site-packages/sklearn/ensemble/_forest.py:413: FutureWarning: `max_features='auto'` has been deprecated in 1.1 and will be removed in 1.3. To keep the past behaviour, explicitly set `max_features=1.0` or remove this parameter as it is also the default value for RandomForestRegressors and ExtraTreesRegressors.\n",
      "  warn(\n",
      "/opt/homebrew/Caskroom/miniforge/base/envs/cpfr-factory/lib/python3.10/site-packages/sklearn/ensemble/_forest.py:413: FutureWarning: `max_features='auto'` has been deprecated in 1.1 and will be removed in 1.3. To keep the past behaviour, explicitly set `max_features=1.0` or remove this parameter as it is also the default value for RandomForestRegressors and ExtraTreesRegressors.\n",
      "  warn(\n",
      "/opt/homebrew/Caskroom/miniforge/base/envs/cpfr-factory/lib/python3.10/site-packages/sklearn/ensemble/_forest.py:413: FutureWarning: `max_features='auto'` has been deprecated in 1.1 and will be removed in 1.3. To keep the past behaviour, explicitly set `max_features=1.0` or remove this parameter as it is also the default value for RandomForestRegressors and ExtraTreesRegressors.\n",
      "  warn(\n",
      "/opt/homebrew/Caskroom/miniforge/base/envs/cpfr-factory/lib/python3.10/site-packages/sklearn/ensemble/_forest.py:413: FutureWarning: `max_features='auto'` has been deprecated in 1.1 and will be removed in 1.3. To keep the past behaviour, explicitly set `max_features=1.0` or remove this parameter as it is also the default value for RandomForestRegressors and ExtraTreesRegressors.\n",
      "  warn(\n",
      "/opt/homebrew/Caskroom/miniforge/base/envs/cpfr-factory/lib/python3.10/site-packages/sklearn/ensemble/_forest.py:413: FutureWarning: `max_features='auto'` has been deprecated in 1.1 and will be removed in 1.3. To keep the past behaviour, explicitly set `max_features=1.0` or remove this parameter as it is also the default value for RandomForestRegressors and ExtraTreesRegressors.\n",
      "  warn(\n",
      "/opt/homebrew/Caskroom/miniforge/base/envs/cpfr-factory/lib/python3.10/site-packages/sklearn/ensemble/_forest.py:413: FutureWarning: `max_features='auto'` has been deprecated in 1.1 and will be removed in 1.3. To keep the past behaviour, explicitly set `max_features=1.0` or remove this parameter as it is also the default value for RandomForestRegressors and ExtraTreesRegressors.\n",
      "  warn(\n",
      "/opt/homebrew/Caskroom/miniforge/base/envs/cpfr-factory/lib/python3.10/site-packages/sklearn/ensemble/_forest.py:413: FutureWarning: `max_features='auto'` has been deprecated in 1.1 and will be removed in 1.3. To keep the past behaviour, explicitly set `max_features=1.0` or remove this parameter as it is also the default value for RandomForestRegressors and ExtraTreesRegressors.\n",
      "  warn(\n",
      "/opt/homebrew/Caskroom/miniforge/base/envs/cpfr-factory/lib/python3.10/site-packages/sklearn/ensemble/_forest.py:413: FutureWarning: `max_features='auto'` has been deprecated in 1.1 and will be removed in 1.3. To keep the past behaviour, explicitly set `max_features=1.0` or remove this parameter as it is also the default value for RandomForestRegressors and ExtraTreesRegressors.\n",
      "  warn(\n",
      "/opt/homebrew/Caskroom/miniforge/base/envs/cpfr-factory/lib/python3.10/site-packages/sklearn/ensemble/_forest.py:413: FutureWarning: `max_features='auto'` has been deprecated in 1.1 and will be removed in 1.3. To keep the past behaviour, explicitly set `max_features=1.0` or remove this parameter as it is also the default value for RandomForestRegressors and ExtraTreesRegressors.\n",
      "  warn(\n",
      "/opt/homebrew/Caskroom/miniforge/base/envs/cpfr-factory/lib/python3.10/site-packages/sklearn/ensemble/_forest.py:413: FutureWarning: `max_features='auto'` has been deprecated in 1.1 and will be removed in 1.3. To keep the past behaviour, explicitly set `max_features=1.0` or remove this parameter as it is also the default value for RandomForestRegressors and ExtraTreesRegressors.\n",
      "  warn(\n",
      "/opt/homebrew/Caskroom/miniforge/base/envs/cpfr-factory/lib/python3.10/site-packages/sklearn/ensemble/_forest.py:413: FutureWarning: `max_features='auto'` has been deprecated in 1.1 and will be removed in 1.3. To keep the past behaviour, explicitly set `max_features=1.0` or remove this parameter as it is also the default value for RandomForestRegressors and ExtraTreesRegressors.\n",
      "  warn(\n",
      "/opt/homebrew/Caskroom/miniforge/base/envs/cpfr-factory/lib/python3.10/site-packages/sklearn/ensemble/_forest.py:413: FutureWarning: `max_features='auto'` has been deprecated in 1.1 and will be removed in 1.3. To keep the past behaviour, explicitly set `max_features=1.0` or remove this parameter as it is also the default value for RandomForestRegressors and ExtraTreesRegressors.\n",
      "  warn(\n",
      "/opt/homebrew/Caskroom/miniforge/base/envs/cpfr-factory/lib/python3.10/site-packages/sklearn/ensemble/_forest.py:413: FutureWarning: `max_features='auto'` has been deprecated in 1.1 and will be removed in 1.3. To keep the past behaviour, explicitly set `max_features=1.0` or remove this parameter as it is also the default value for RandomForestRegressors and ExtraTreesRegressors.\n",
      "  warn(\n",
      "/opt/homebrew/Caskroom/miniforge/base/envs/cpfr-factory/lib/python3.10/site-packages/sklearn/ensemble/_forest.py:413: FutureWarning: `max_features='auto'` has been deprecated in 1.1 and will be removed in 1.3. To keep the past behaviour, explicitly set `max_features=1.0` or remove this parameter as it is also the default value for RandomForestRegressors and ExtraTreesRegressors.\n",
      "  warn(\n",
      "/opt/homebrew/Caskroom/miniforge/base/envs/cpfr-factory/lib/python3.10/site-packages/sklearn/ensemble/_forest.py:413: FutureWarning: `max_features='auto'` has been deprecated in 1.1 and will be removed in 1.3. To keep the past behaviour, explicitly set `max_features=1.0` or remove this parameter as it is also the default value for RandomForestRegressors and ExtraTreesRegressors.\n",
      "  warn(\n",
      "/opt/homebrew/Caskroom/miniforge/base/envs/cpfr-factory/lib/python3.10/site-packages/sklearn/ensemble/_forest.py:413: FutureWarning: `max_features='auto'` has been deprecated in 1.1 and will be removed in 1.3. To keep the past behaviour, explicitly set `max_features=1.0` or remove this parameter as it is also the default value for RandomForestRegressors and ExtraTreesRegressors.\n",
      "  warn(\n",
      "/opt/homebrew/Caskroom/miniforge/base/envs/cpfr-factory/lib/python3.10/site-packages/sklearn/ensemble/_forest.py:413: FutureWarning: `max_features='auto'` has been deprecated in 1.1 and will be removed in 1.3. To keep the past behaviour, explicitly set `max_features=1.0` or remove this parameter as it is also the default value for RandomForestRegressors and ExtraTreesRegressors.\n",
      "  warn(\n",
      "/opt/homebrew/Caskroom/miniforge/base/envs/cpfr-factory/lib/python3.10/site-packages/sklearn/ensemble/_forest.py:413: FutureWarning: `max_features='auto'` has been deprecated in 1.1 and will be removed in 1.3. To keep the past behaviour, explicitly set `max_features=1.0` or remove this parameter as it is also the default value for RandomForestRegressors and ExtraTreesRegressors.\n",
      "  warn(\n",
      "/opt/homebrew/Caskroom/miniforge/base/envs/cpfr-factory/lib/python3.10/site-packages/sklearn/ensemble/_forest.py:413: FutureWarning: `max_features='auto'` has been deprecated in 1.1 and will be removed in 1.3. To keep the past behaviour, explicitly set `max_features=1.0` or remove this parameter as it is also the default value for RandomForestRegressors and ExtraTreesRegressors.\n",
      "  warn(\n",
      "/opt/homebrew/Caskroom/miniforge/base/envs/cpfr-factory/lib/python3.10/site-packages/sklearn/ensemble/_forest.py:413: FutureWarning: `max_features='auto'` has been deprecated in 1.1 and will be removed in 1.3. To keep the past behaviour, explicitly set `max_features=1.0` or remove this parameter as it is also the default value for RandomForestRegressors and ExtraTreesRegressors.\n",
      "  warn(\n",
      "/opt/homebrew/Caskroom/miniforge/base/envs/cpfr-factory/lib/python3.10/site-packages/sklearn/ensemble/_forest.py:413: FutureWarning: `max_features='auto'` has been deprecated in 1.1 and will be removed in 1.3. To keep the past behaviour, explicitly set `max_features=1.0` or remove this parameter as it is also the default value for RandomForestRegressors and ExtraTreesRegressors.\n",
      "  warn(\n",
      "/opt/homebrew/Caskroom/miniforge/base/envs/cpfr-factory/lib/python3.10/site-packages/sklearn/ensemble/_forest.py:413: FutureWarning: `max_features='auto'` has been deprecated in 1.1 and will be removed in 1.3. To keep the past behaviour, explicitly set `max_features=1.0` or remove this parameter as it is also the default value for RandomForestRegressors and ExtraTreesRegressors.\n",
      "  warn(\n",
      "/opt/homebrew/Caskroom/miniforge/base/envs/cpfr-factory/lib/python3.10/site-packages/sklearn/ensemble/_forest.py:413: FutureWarning: `max_features='auto'` has been deprecated in 1.1 and will be removed in 1.3. To keep the past behaviour, explicitly set `max_features=1.0` or remove this parameter as it is also the default value for RandomForestRegressors and ExtraTreesRegressors.\n",
      "  warn(\n",
      "/opt/homebrew/Caskroom/miniforge/base/envs/cpfr-factory/lib/python3.10/site-packages/sklearn/ensemble/_forest.py:413: FutureWarning: `max_features='auto'` has been deprecated in 1.1 and will be removed in 1.3. To keep the past behaviour, explicitly set `max_features=1.0` or remove this parameter as it is also the default value for RandomForestRegressors and ExtraTreesRegressors.\n",
      "  warn(\n",
      "/opt/homebrew/Caskroom/miniforge/base/envs/cpfr-factory/lib/python3.10/site-packages/sklearn/ensemble/_forest.py:413: FutureWarning: `max_features='auto'` has been deprecated in 1.1 and will be removed in 1.3. To keep the past behaviour, explicitly set `max_features=1.0` or remove this parameter as it is also the default value for RandomForestRegressors and ExtraTreesRegressors.\n",
      "  warn(\n",
      "/opt/homebrew/Caskroom/miniforge/base/envs/cpfr-factory/lib/python3.10/site-packages/sklearn/ensemble/_forest.py:413: FutureWarning: `max_features='auto'` has been deprecated in 1.1 and will be removed in 1.3. To keep the past behaviour, explicitly set `max_features=1.0` or remove this parameter as it is also the default value for RandomForestRegressors and ExtraTreesRegressors.\n",
      "  warn(\n",
      "/opt/homebrew/Caskroom/miniforge/base/envs/cpfr-factory/lib/python3.10/site-packages/sklearn/ensemble/_forest.py:413: FutureWarning: `max_features='auto'` has been deprecated in 1.1 and will be removed in 1.3. To keep the past behaviour, explicitly set `max_features=1.0` or remove this parameter as it is also the default value for RandomForestRegressors and ExtraTreesRegressors.\n",
      "  warn(\n",
      "/opt/homebrew/Caskroom/miniforge/base/envs/cpfr-factory/lib/python3.10/site-packages/sklearn/ensemble/_forest.py:413: FutureWarning: `max_features='auto'` has been deprecated in 1.1 and will be removed in 1.3. To keep the past behaviour, explicitly set `max_features=1.0` or remove this parameter as it is also the default value for RandomForestRegressors and ExtraTreesRegressors.\n",
      "  warn(\n",
      "/opt/homebrew/Caskroom/miniforge/base/envs/cpfr-factory/lib/python3.10/site-packages/sklearn/ensemble/_forest.py:413: FutureWarning: `max_features='auto'` has been deprecated in 1.1 and will be removed in 1.3. To keep the past behaviour, explicitly set `max_features=1.0` or remove this parameter as it is also the default value for RandomForestRegressors and ExtraTreesRegressors.\n",
      "  warn(\n",
      "/opt/homebrew/Caskroom/miniforge/base/envs/cpfr-factory/lib/python3.10/site-packages/sklearn/ensemble/_forest.py:413: FutureWarning: `max_features='auto'` has been deprecated in 1.1 and will be removed in 1.3. To keep the past behaviour, explicitly set `max_features=1.0` or remove this parameter as it is also the default value for RandomForestRegressors and ExtraTreesRegressors.\n",
      "  warn(\n",
      "/opt/homebrew/Caskroom/miniforge/base/envs/cpfr-factory/lib/python3.10/site-packages/sklearn/ensemble/_forest.py:413: FutureWarning: `max_features='auto'` has been deprecated in 1.1 and will be removed in 1.3. To keep the past behaviour, explicitly set `max_features=1.0` or remove this parameter as it is also the default value for RandomForestRegressors and ExtraTreesRegressors.\n",
      "  warn(\n",
      "/opt/homebrew/Caskroom/miniforge/base/envs/cpfr-factory/lib/python3.10/site-packages/sklearn/ensemble/_forest.py:413: FutureWarning: `max_features='auto'` has been deprecated in 1.1 and will be removed in 1.3. To keep the past behaviour, explicitly set `max_features=1.0` or remove this parameter as it is also the default value for RandomForestRegressors and ExtraTreesRegressors.\n",
      "  warn(\n",
      "/opt/homebrew/Caskroom/miniforge/base/envs/cpfr-factory/lib/python3.10/site-packages/sklearn/ensemble/_forest.py:413: FutureWarning: `max_features='auto'` has been deprecated in 1.1 and will be removed in 1.3. To keep the past behaviour, explicitly set `max_features=1.0` or remove this parameter as it is also the default value for RandomForestRegressors and ExtraTreesRegressors.\n",
      "  warn(\n",
      "/opt/homebrew/Caskroom/miniforge/base/envs/cpfr-factory/lib/python3.10/site-packages/sklearn/ensemble/_forest.py:413: FutureWarning: `max_features='auto'` has been deprecated in 1.1 and will be removed in 1.3. To keep the past behaviour, explicitly set `max_features=1.0` or remove this parameter as it is also the default value for RandomForestRegressors and ExtraTreesRegressors.\n",
      "  warn(\n",
      "/opt/homebrew/Caskroom/miniforge/base/envs/cpfr-factory/lib/python3.10/site-packages/sklearn/ensemble/_forest.py:413: FutureWarning: `max_features='auto'` has been deprecated in 1.1 and will be removed in 1.3. To keep the past behaviour, explicitly set `max_features=1.0` or remove this parameter as it is also the default value for RandomForestRegressors and ExtraTreesRegressors.\n",
      "  warn(\n",
      "/opt/homebrew/Caskroom/miniforge/base/envs/cpfr-factory/lib/python3.10/site-packages/sklearn/ensemble/_forest.py:413: FutureWarning: `max_features='auto'` has been deprecated in 1.1 and will be removed in 1.3. To keep the past behaviour, explicitly set `max_features=1.0` or remove this parameter as it is also the default value for RandomForestRegressors and ExtraTreesRegressors.\n",
      "  warn(\n",
      "/opt/homebrew/Caskroom/miniforge/base/envs/cpfr-factory/lib/python3.10/site-packages/sklearn/ensemble/_forest.py:413: FutureWarning: `max_features='auto'` has been deprecated in 1.1 and will be removed in 1.3. To keep the past behaviour, explicitly set `max_features=1.0` or remove this parameter as it is also the default value for RandomForestRegressors and ExtraTreesRegressors.\n",
      "  warn(\n",
      "/opt/homebrew/Caskroom/miniforge/base/envs/cpfr-factory/lib/python3.10/site-packages/sklearn/ensemble/_forest.py:413: FutureWarning: `max_features='auto'` has been deprecated in 1.1 and will be removed in 1.3. To keep the past behaviour, explicitly set `max_features=1.0` or remove this parameter as it is also the default value for RandomForestRegressors and ExtraTreesRegressors.\n",
      "  warn(\n",
      "/opt/homebrew/Caskroom/miniforge/base/envs/cpfr-factory/lib/python3.10/site-packages/sklearn/ensemble/_forest.py:413: FutureWarning: `max_features='auto'` has been deprecated in 1.1 and will be removed in 1.3. To keep the past behaviour, explicitly set `max_features=1.0` or remove this parameter as it is also the default value for RandomForestRegressors and ExtraTreesRegressors.\n",
      "  warn(\n",
      "/opt/homebrew/Caskroom/miniforge/base/envs/cpfr-factory/lib/python3.10/site-packages/sklearn/ensemble/_forest.py:413: FutureWarning: `max_features='auto'` has been deprecated in 1.1 and will be removed in 1.3. To keep the past behaviour, explicitly set `max_features=1.0` or remove this parameter as it is also the default value for RandomForestRegressors and ExtraTreesRegressors.\n",
      "  warn(\n",
      "/opt/homebrew/Caskroom/miniforge/base/envs/cpfr-factory/lib/python3.10/site-packages/sklearn/ensemble/_forest.py:413: FutureWarning: `max_features='auto'` has been deprecated in 1.1 and will be removed in 1.3. To keep the past behaviour, explicitly set `max_features=1.0` or remove this parameter as it is also the default value for RandomForestRegressors and ExtraTreesRegressors.\n",
      "  warn(\n",
      "/opt/homebrew/Caskroom/miniforge/base/envs/cpfr-factory/lib/python3.10/site-packages/sklearn/ensemble/_forest.py:413: FutureWarning: `max_features='auto'` has been deprecated in 1.1 and will be removed in 1.3. To keep the past behaviour, explicitly set `max_features=1.0` or remove this parameter as it is also the default value for RandomForestRegressors and ExtraTreesRegressors.\n",
      "  warn(\n",
      "/opt/homebrew/Caskroom/miniforge/base/envs/cpfr-factory/lib/python3.10/site-packages/sklearn/ensemble/_forest.py:413: FutureWarning: `max_features='auto'` has been deprecated in 1.1 and will be removed in 1.3. To keep the past behaviour, explicitly set `max_features=1.0` or remove this parameter as it is also the default value for RandomForestRegressors and ExtraTreesRegressors.\n",
      "  warn(\n",
      "/opt/homebrew/Caskroom/miniforge/base/envs/cpfr-factory/lib/python3.10/site-packages/sklearn/ensemble/_forest.py:413: FutureWarning: `max_features='auto'` has been deprecated in 1.1 and will be removed in 1.3. To keep the past behaviour, explicitly set `max_features=1.0` or remove this parameter as it is also the default value for RandomForestRegressors and ExtraTreesRegressors.\n",
      "  warn(\n",
      "/opt/homebrew/Caskroom/miniforge/base/envs/cpfr-factory/lib/python3.10/site-packages/sklearn/ensemble/_forest.py:413: FutureWarning: `max_features='auto'` has been deprecated in 1.1 and will be removed in 1.3. To keep the past behaviour, explicitly set `max_features=1.0` or remove this parameter as it is also the default value for RandomForestRegressors and ExtraTreesRegressors.\n",
      "  warn(\n",
      "/opt/homebrew/Caskroom/miniforge/base/envs/cpfr-factory/lib/python3.10/site-packages/sklearn/ensemble/_forest.py:413: FutureWarning: `max_features='auto'` has been deprecated in 1.1 and will be removed in 1.3. To keep the past behaviour, explicitly set `max_features=1.0` or remove this parameter as it is also the default value for RandomForestRegressors and ExtraTreesRegressors.\n",
      "  warn(\n",
      "/opt/homebrew/Caskroom/miniforge/base/envs/cpfr-factory/lib/python3.10/site-packages/sklearn/ensemble/_forest.py:413: FutureWarning: `max_features='auto'` has been deprecated in 1.1 and will be removed in 1.3. To keep the past behaviour, explicitly set `max_features=1.0` or remove this parameter as it is also the default value for RandomForestRegressors and ExtraTreesRegressors.\n",
      "  warn(\n",
      "/opt/homebrew/Caskroom/miniforge/base/envs/cpfr-factory/lib/python3.10/site-packages/sklearn/ensemble/_forest.py:413: FutureWarning: `max_features='auto'` has been deprecated in 1.1 and will be removed in 1.3. To keep the past behaviour, explicitly set `max_features=1.0` or remove this parameter as it is also the default value for RandomForestRegressors and ExtraTreesRegressors.\n",
      "  warn(\n",
      "/opt/homebrew/Caskroom/miniforge/base/envs/cpfr-factory/lib/python3.10/site-packages/sklearn/ensemble/_forest.py:413: FutureWarning: `max_features='auto'` has been deprecated in 1.1 and will be removed in 1.3. To keep the past behaviour, explicitly set `max_features=1.0` or remove this parameter as it is also the default value for RandomForestRegressors and ExtraTreesRegressors.\n",
      "  warn(\n",
      "/opt/homebrew/Caskroom/miniforge/base/envs/cpfr-factory/lib/python3.10/site-packages/sklearn/ensemble/_forest.py:413: FutureWarning: `max_features='auto'` has been deprecated in 1.1 and will be removed in 1.3. To keep the past behaviour, explicitly set `max_features=1.0` or remove this parameter as it is also the default value for RandomForestRegressors and ExtraTreesRegressors.\n",
      "  warn(\n",
      "/opt/homebrew/Caskroom/miniforge/base/envs/cpfr-factory/lib/python3.10/site-packages/sklearn/ensemble/_forest.py:413: FutureWarning: `max_features='auto'` has been deprecated in 1.1 and will be removed in 1.3. To keep the past behaviour, explicitly set `max_features=1.0` or remove this parameter as it is also the default value for RandomForestRegressors and ExtraTreesRegressors.\n",
      "  warn(\n",
      "/opt/homebrew/Caskroom/miniforge/base/envs/cpfr-factory/lib/python3.10/site-packages/sklearn/ensemble/_forest.py:413: FutureWarning: `max_features='auto'` has been deprecated in 1.1 and will be removed in 1.3. To keep the past behaviour, explicitly set `max_features=1.0` or remove this parameter as it is also the default value for RandomForestRegressors and ExtraTreesRegressors.\n",
      "  warn(\n",
      "/opt/homebrew/Caskroom/miniforge/base/envs/cpfr-factory/lib/python3.10/site-packages/sklearn/ensemble/_forest.py:413: FutureWarning: `max_features='auto'` has been deprecated in 1.1 and will be removed in 1.3. To keep the past behaviour, explicitly set `max_features=1.0` or remove this parameter as it is also the default value for RandomForestRegressors and ExtraTreesRegressors.\n",
      "  warn(\n",
      "/opt/homebrew/Caskroom/miniforge/base/envs/cpfr-factory/lib/python3.10/site-packages/sklearn/ensemble/_forest.py:413: FutureWarning: `max_features='auto'` has been deprecated in 1.1 and will be removed in 1.3. To keep the past behaviour, explicitly set `max_features=1.0` or remove this parameter as it is also the default value for RandomForestRegressors and ExtraTreesRegressors.\n",
      "  warn(\n",
      "/opt/homebrew/Caskroom/miniforge/base/envs/cpfr-factory/lib/python3.10/site-packages/sklearn/ensemble/_forest.py:413: FutureWarning: `max_features='auto'` has been deprecated in 1.1 and will be removed in 1.3. To keep the past behaviour, explicitly set `max_features=1.0` or remove this parameter as it is also the default value for RandomForestRegressors and ExtraTreesRegressors.\n",
      "  warn(\n",
      "/opt/homebrew/Caskroom/miniforge/base/envs/cpfr-factory/lib/python3.10/site-packages/sklearn/ensemble/_forest.py:413: FutureWarning: `max_features='auto'` has been deprecated in 1.1 and will be removed in 1.3. To keep the past behaviour, explicitly set `max_features=1.0` or remove this parameter as it is also the default value for RandomForestRegressors and ExtraTreesRegressors.\n",
      "  warn(\n",
      "/opt/homebrew/Caskroom/miniforge/base/envs/cpfr-factory/lib/python3.10/site-packages/sklearn/ensemble/_forest.py:413: FutureWarning: `max_features='auto'` has been deprecated in 1.1 and will be removed in 1.3. To keep the past behaviour, explicitly set `max_features=1.0` or remove this parameter as it is also the default value for RandomForestRegressors and ExtraTreesRegressors.\n",
      "  warn(\n",
      "/opt/homebrew/Caskroom/miniforge/base/envs/cpfr-factory/lib/python3.10/site-packages/sklearn/ensemble/_forest.py:413: FutureWarning: `max_features='auto'` has been deprecated in 1.1 and will be removed in 1.3. To keep the past behaviour, explicitly set `max_features=1.0` or remove this parameter as it is also the default value for RandomForestRegressors and ExtraTreesRegressors.\n",
      "  warn(\n",
      "/opt/homebrew/Caskroom/miniforge/base/envs/cpfr-factory/lib/python3.10/site-packages/sklearn/ensemble/_forest.py:413: FutureWarning: `max_features='auto'` has been deprecated in 1.1 and will be removed in 1.3. To keep the past behaviour, explicitly set `max_features=1.0` or remove this parameter as it is also the default value for RandomForestRegressors and ExtraTreesRegressors.\n",
      "  warn(\n",
      "/opt/homebrew/Caskroom/miniforge/base/envs/cpfr-factory/lib/python3.10/site-packages/sklearn/ensemble/_forest.py:413: FutureWarning: `max_features='auto'` has been deprecated in 1.1 and will be removed in 1.3. To keep the past behaviour, explicitly set `max_features=1.0` or remove this parameter as it is also the default value for RandomForestRegressors and ExtraTreesRegressors.\n",
      "  warn(\n",
      "/opt/homebrew/Caskroom/miniforge/base/envs/cpfr-factory/lib/python3.10/site-packages/sklearn/ensemble/_forest.py:413: FutureWarning: `max_features='auto'` has been deprecated in 1.1 and will be removed in 1.3. To keep the past behaviour, explicitly set `max_features=1.0` or remove this parameter as it is also the default value for RandomForestRegressors and ExtraTreesRegressors.\n",
      "  warn(\n",
      "/opt/homebrew/Caskroom/miniforge/base/envs/cpfr-factory/lib/python3.10/site-packages/sklearn/ensemble/_forest.py:413: FutureWarning: `max_features='auto'` has been deprecated in 1.1 and will be removed in 1.3. To keep the past behaviour, explicitly set `max_features=1.0` or remove this parameter as it is also the default value for RandomForestRegressors and ExtraTreesRegressors.\n",
      "  warn(\n",
      "/opt/homebrew/Caskroom/miniforge/base/envs/cpfr-factory/lib/python3.10/site-packages/sklearn/ensemble/_forest.py:413: FutureWarning: `max_features='auto'` has been deprecated in 1.1 and will be removed in 1.3. To keep the past behaviour, explicitly set `max_features=1.0` or remove this parameter as it is also the default value for RandomForestRegressors and ExtraTreesRegressors.\n",
      "  warn(\n",
      "/opt/homebrew/Caskroom/miniforge/base/envs/cpfr-factory/lib/python3.10/site-packages/sklearn/ensemble/_forest.py:413: FutureWarning: `max_features='auto'` has been deprecated in 1.1 and will be removed in 1.3. To keep the past behaviour, explicitly set `max_features=1.0` or remove this parameter as it is also the default value for RandomForestRegressors and ExtraTreesRegressors.\n",
      "  warn(\n",
      "/opt/homebrew/Caskroom/miniforge/base/envs/cpfr-factory/lib/python3.10/site-packages/sklearn/ensemble/_forest.py:413: FutureWarning: `max_features='auto'` has been deprecated in 1.1 and will be removed in 1.3. To keep the past behaviour, explicitly set `max_features=1.0` or remove this parameter as it is also the default value for RandomForestRegressors and ExtraTreesRegressors.\n",
      "  warn(\n",
      "/opt/homebrew/Caskroom/miniforge/base/envs/cpfr-factory/lib/python3.10/site-packages/sklearn/ensemble/_forest.py:413: FutureWarning: `max_features='auto'` has been deprecated in 1.1 and will be removed in 1.3. To keep the past behaviour, explicitly set `max_features=1.0` or remove this parameter as it is also the default value for RandomForestRegressors and ExtraTreesRegressors.\n",
      "  warn(\n",
      "/opt/homebrew/Caskroom/miniforge/base/envs/cpfr-factory/lib/python3.10/site-packages/sklearn/ensemble/_forest.py:413: FutureWarning: `max_features='auto'` has been deprecated in 1.1 and will be removed in 1.3. To keep the past behaviour, explicitly set `max_features=1.0` or remove this parameter as it is also the default value for RandomForestRegressors and ExtraTreesRegressors.\n",
      "  warn(\n",
      "/opt/homebrew/Caskroom/miniforge/base/envs/cpfr-factory/lib/python3.10/site-packages/sklearn/ensemble/_forest.py:413: FutureWarning: `max_features='auto'` has been deprecated in 1.1 and will be removed in 1.3. To keep the past behaviour, explicitly set `max_features=1.0` or remove this parameter as it is also the default value for RandomForestRegressors and ExtraTreesRegressors.\n",
      "  warn(\n",
      "/opt/homebrew/Caskroom/miniforge/base/envs/cpfr-factory/lib/python3.10/site-packages/sklearn/ensemble/_forest.py:413: FutureWarning: `max_features='auto'` has been deprecated in 1.1 and will be removed in 1.3. To keep the past behaviour, explicitly set `max_features=1.0` or remove this parameter as it is also the default value for RandomForestRegressors and ExtraTreesRegressors.\n",
      "  warn(\n",
      "/opt/homebrew/Caskroom/miniforge/base/envs/cpfr-factory/lib/python3.10/site-packages/sklearn/ensemble/_forest.py:413: FutureWarning: `max_features='auto'` has been deprecated in 1.1 and will be removed in 1.3. To keep the past behaviour, explicitly set `max_features=1.0` or remove this parameter as it is also the default value for RandomForestRegressors and ExtraTreesRegressors.\n",
      "  warn(\n",
      "/opt/homebrew/Caskroom/miniforge/base/envs/cpfr-factory/lib/python3.10/site-packages/sklearn/ensemble/_forest.py:413: FutureWarning: `max_features='auto'` has been deprecated in 1.1 and will be removed in 1.3. To keep the past behaviour, explicitly set `max_features=1.0` or remove this parameter as it is also the default value for RandomForestRegressors and ExtraTreesRegressors.\n",
      "  warn(\n",
      "/opt/homebrew/Caskroom/miniforge/base/envs/cpfr-factory/lib/python3.10/site-packages/sklearn/ensemble/_forest.py:413: FutureWarning: `max_features='auto'` has been deprecated in 1.1 and will be removed in 1.3. To keep the past behaviour, explicitly set `max_features=1.0` or remove this parameter as it is also the default value for RandomForestRegressors and ExtraTreesRegressors.\n",
      "  warn(\n",
      "/opt/homebrew/Caskroom/miniforge/base/envs/cpfr-factory/lib/python3.10/site-packages/sklearn/ensemble/_forest.py:413: FutureWarning: `max_features='auto'` has been deprecated in 1.1 and will be removed in 1.3. To keep the past behaviour, explicitly set `max_features=1.0` or remove this parameter as it is also the default value for RandomForestRegressors and ExtraTreesRegressors.\n",
      "  warn(\n",
      "/opt/homebrew/Caskroom/miniforge/base/envs/cpfr-factory/lib/python3.10/site-packages/sklearn/ensemble/_forest.py:413: FutureWarning: `max_features='auto'` has been deprecated in 1.1 and will be removed in 1.3. To keep the past behaviour, explicitly set `max_features=1.0` or remove this parameter as it is also the default value for RandomForestRegressors and ExtraTreesRegressors.\n",
      "  warn(\n",
      "/opt/homebrew/Caskroom/miniforge/base/envs/cpfr-factory/lib/python3.10/site-packages/sklearn/ensemble/_forest.py:413: FutureWarning: `max_features='auto'` has been deprecated in 1.1 and will be removed in 1.3. To keep the past behaviour, explicitly set `max_features=1.0` or remove this parameter as it is also the default value for RandomForestRegressors and ExtraTreesRegressors.\n",
      "  warn(\n",
      "/opt/homebrew/Caskroom/miniforge/base/envs/cpfr-factory/lib/python3.10/site-packages/sklearn/ensemble/_forest.py:413: FutureWarning: `max_features='auto'` has been deprecated in 1.1 and will be removed in 1.3. To keep the past behaviour, explicitly set `max_features=1.0` or remove this parameter as it is also the default value for RandomForestRegressors and ExtraTreesRegressors.\n",
      "  warn(\n",
      "/opt/homebrew/Caskroom/miniforge/base/envs/cpfr-factory/lib/python3.10/site-packages/sklearn/ensemble/_forest.py:413: FutureWarning: `max_features='auto'` has been deprecated in 1.1 and will be removed in 1.3. To keep the past behaviour, explicitly set `max_features=1.0` or remove this parameter as it is also the default value for RandomForestRegressors and ExtraTreesRegressors.\n",
      "  warn(\n",
      "/opt/homebrew/Caskroom/miniforge/base/envs/cpfr-factory/lib/python3.10/site-packages/sklearn/ensemble/_forest.py:413: FutureWarning: `max_features='auto'` has been deprecated in 1.1 and will be removed in 1.3. To keep the past behaviour, explicitly set `max_features=1.0` or remove this parameter as it is also the default value for RandomForestRegressors and ExtraTreesRegressors.\n",
      "  warn(\n",
      "/opt/homebrew/Caskroom/miniforge/base/envs/cpfr-factory/lib/python3.10/site-packages/sklearn/ensemble/_forest.py:413: FutureWarning: `max_features='auto'` has been deprecated in 1.1 and will be removed in 1.3. To keep the past behaviour, explicitly set `max_features=1.0` or remove this parameter as it is also the default value for RandomForestRegressors and ExtraTreesRegressors.\n",
      "  warn(\n",
      "/opt/homebrew/Caskroom/miniforge/base/envs/cpfr-factory/lib/python3.10/site-packages/sklearn/ensemble/_forest.py:413: FutureWarning: `max_features='auto'` has been deprecated in 1.1 and will be removed in 1.3. To keep the past behaviour, explicitly set `max_features=1.0` or remove this parameter as it is also the default value for RandomForestRegressors and ExtraTreesRegressors.\n",
      "  warn(\n",
      "/opt/homebrew/Caskroom/miniforge/base/envs/cpfr-factory/lib/python3.10/site-packages/sklearn/ensemble/_forest.py:413: FutureWarning: `max_features='auto'` has been deprecated in 1.1 and will be removed in 1.3. To keep the past behaviour, explicitly set `max_features=1.0` or remove this parameter as it is also the default value for RandomForestRegressors and ExtraTreesRegressors.\n",
      "  warn(\n",
      "/opt/homebrew/Caskroom/miniforge/base/envs/cpfr-factory/lib/python3.10/site-packages/sklearn/ensemble/_forest.py:413: FutureWarning: `max_features='auto'` has been deprecated in 1.1 and will be removed in 1.3. To keep the past behaviour, explicitly set `max_features=1.0` or remove this parameter as it is also the default value for RandomForestRegressors and ExtraTreesRegressors.\n",
      "  warn(\n",
      "/opt/homebrew/Caskroom/miniforge/base/envs/cpfr-factory/lib/python3.10/site-packages/sklearn/ensemble/_forest.py:413: FutureWarning: `max_features='auto'` has been deprecated in 1.1 and will be removed in 1.3. To keep the past behaviour, explicitly set `max_features=1.0` or remove this parameter as it is also the default value for RandomForestRegressors and ExtraTreesRegressors.\n",
      "  warn(\n",
      "/opt/homebrew/Caskroom/miniforge/base/envs/cpfr-factory/lib/python3.10/site-packages/sklearn/ensemble/_forest.py:413: FutureWarning: `max_features='auto'` has been deprecated in 1.1 and will be removed in 1.3. To keep the past behaviour, explicitly set `max_features=1.0` or remove this parameter as it is also the default value for RandomForestRegressors and ExtraTreesRegressors.\n",
      "  warn(\n",
      "/opt/homebrew/Caskroom/miniforge/base/envs/cpfr-factory/lib/python3.10/site-packages/sklearn/ensemble/_forest.py:413: FutureWarning: `max_features='auto'` has been deprecated in 1.1 and will be removed in 1.3. To keep the past behaviour, explicitly set `max_features=1.0` or remove this parameter as it is also the default value for RandomForestRegressors and ExtraTreesRegressors.\n",
      "  warn(\n",
      "/opt/homebrew/Caskroom/miniforge/base/envs/cpfr-factory/lib/python3.10/site-packages/sklearn/ensemble/_forest.py:413: FutureWarning: `max_features='auto'` has been deprecated in 1.1 and will be removed in 1.3. To keep the past behaviour, explicitly set `max_features=1.0` or remove this parameter as it is also the default value for RandomForestRegressors and ExtraTreesRegressors.\n",
      "  warn(\n",
      "/opt/homebrew/Caskroom/miniforge/base/envs/cpfr-factory/lib/python3.10/site-packages/sklearn/ensemble/_forest.py:413: FutureWarning: `max_features='auto'` has been deprecated in 1.1 and will be removed in 1.3. To keep the past behaviour, explicitly set `max_features=1.0` or remove this parameter as it is also the default value for RandomForestRegressors and ExtraTreesRegressors.\n",
      "  warn(\n",
      "/opt/homebrew/Caskroom/miniforge/base/envs/cpfr-factory/lib/python3.10/site-packages/sklearn/ensemble/_forest.py:413: FutureWarning: `max_features='auto'` has been deprecated in 1.1 and will be removed in 1.3. To keep the past behaviour, explicitly set `max_features=1.0` or remove this parameter as it is also the default value for RandomForestRegressors and ExtraTreesRegressors.\n",
      "  warn(\n"
     ]
    }
   ],
   "source": [
    "from sklearn.model_selection import GridSearchCV\n",
    "\n",
    "# Define the parameter grid for Random Forest\n",
    "param_grid = {\n",
    "    'n_estimators': [50, 100, 200],\n",
    "    'max_depth': [None, 10, 20, 30],\n",
    "    'min_samples_split': [2, 5, 10],\n",
    "    'min_samples_leaf': [1, 2, 4],\n",
    "    'max_features': ['auto', 'sqrt', 'log2']\n",
    "}\n",
    "\n",
    "# Initialize the Random Forest Regressor\n",
    "rf = RandomForestRegressor(random_state=42)\n",
    "\n",
    "# Perform Grid Search with 3-fold cross-validation\n",
    "grid_search = GridSearchCV(estimator=rf, param_grid=param_grid, cv=3, scoring='neg_mean_squared_error', verbose=0, n_jobs=-1)\n",
    "\n",
    "# Fit the grid search to the data\n",
    "grid_search.fit(situations, business)\n",
    "\n",
    "# Get the best RMSE\n",
    "print(\"Best RMSE:\", np.sqrt(-grid_search.best_score_))\n"
   ]
  },
  {
   "cell_type": "code",
   "execution_count": 47,
   "metadata": {},
   "outputs": [
    {
     "name": "stdout",
     "output_type": "stream",
     "text": [
      "Random Forest Best RMSE: 1098.0541548956442\n"
     ]
    }
   ],
   "source": [
    "print(\"Random Forest Best RMSE:\", np.sqrt(-grid_search.best_score_))"
   ]
  },
  {
   "cell_type": "code",
   "execution_count": 48,
   "metadata": {},
   "outputs": [
    {
     "name": "stdout",
     "output_type": "stream",
     "text": [
      "XGBoost Best RMSE: 1080.3824741120022\n"
     ]
    }
   ],
   "source": [
    "# Define the parameter grid for XGBoost\n",
    "param_grid_xgb = {\n",
    "    'n_estimators': [50, 100, 200],\n",
    "    'max_depth': [3, 6, 10],\n",
    "    'learning_rate': [0.01, 0.1, 0.2],\n",
    "    'subsample': [0.8, 1.0],\n",
    "    'colsample_bytree': [0.8, 1.0],\n",
    "    'gamma': [0, 1, 5]\n",
    "}\n",
    "\n",
    "# Initialize the XGBoost Regressor\n",
    "xgb = XGBRegressor(random_state=42)\n",
    "\n",
    "# Perform Grid Search with 3-fold cross-validation\n",
    "grid_search_xgb = GridSearchCV(estimator=xgb, param_grid=param_grid_xgb, cv=3, scoring='neg_mean_squared_error', verbose=0, n_jobs=-1)\n",
    "\n",
    "# Fit the grid search to the data\n",
    "grid_search_xgb.fit(situations, business)\n",
    "\n",
    "# Get the best RMSE\n",
    "print(\"XGBoost Best RMSE:\", np.sqrt(-grid_search_xgb.best_score_))"
   ]
  },
  {
   "cell_type": "code",
   "execution_count": 49,
   "metadata": {},
   "outputs": [
    {
     "name": "stdout",
     "output_type": "stream",
     "text": [
      "XGBoost Best RMSE: 1080.3824741120022\n"
     ]
    }
   ],
   "source": [
    "print(\"XGBoost Best RMSE:\", np.sqrt(-grid_search_xgb.best_score_))"
   ]
  },
  {
   "cell_type": "code",
   "execution_count": 50,
   "metadata": {},
   "outputs": [
    {
     "name": "stdout",
     "output_type": "stream",
     "text": [
      "LightGBM Best RMSE: 1095.2107532265873\n"
     ]
    }
   ],
   "source": [
    "# Define the parameter grid for LightGBM\n",
    "param_grid_lgb = {\n",
    "    'num_leaves': [31, 50, 100],\n",
    "    'max_depth': [-1, 10, 20],\n",
    "    'learning_rate': [0.01, 0.1, 0.2],\n",
    "    'n_estimators': [50, 100, 200],\n",
    "    'min_child_samples': [20, 50, 100],\n",
    "    'subsample': [0.8, 1.0],\n",
    "    'colsample_bytree': [0.8, 1.0]\n",
    "}\n",
    "\n",
    "# Initialize the LightGBM Regressor\n",
    "lgb = LGBMRegressor(random_state=42)\n",
    "\n",
    "# Perform Grid Search with 3-fold cross-validation\n",
    "grid_search_lgb = GridSearchCV(estimator=lgb, param_grid=param_grid_lgb, cv=3, scoring='neg_mean_squared_error', verbose=0, n_jobs=-1)\n",
    "\n",
    "# Fit the grid search to the data\n",
    "grid_search_lgb.fit(situations, business)\n",
    "\n",
    "# Get the best RMSE\n",
    "print(\"LightGBM Best RMSE:\", np.sqrt(-grid_search_lgb.best_score_))"
   ]
  },
  {
   "cell_type": "code",
   "execution_count": 51,
   "metadata": {},
   "outputs": [
    {
     "name": "stdout",
     "output_type": "stream",
     "text": [
      "LightGBM Best RMSE: 1095.2107532265873\n"
     ]
    }
   ],
   "source": [
    "print(\"LightGBM Best RMSE:\", np.sqrt(-grid_search_lgb.best_score_))"
   ]
  },
  {
   "cell_type": "code",
   "execution_count": 52,
   "metadata": {},
   "outputs": [],
   "source": [
    "trained_model = trained_model_xgb"
   ]
  },
  {
   "cell_type": "markdown",
   "metadata": {},
   "source": [
    "## Prediction"
   ]
  },
  {
   "cell_type": "markdown",
   "metadata": {},
   "source": [
    "1. Load test data\n",
    "2. clean categorical columns\n",
    "3. encode cat columns\n",
    "4. Mask out original cat_columns from dataset\n",
    "5. generate prediction\n",
    "6. Just keep desired columns and prediction column"
   ]
  },
  {
   "cell_type": "markdown",
   "metadata": {},
   "source": [
    "load test data"
   ]
  },
  {
   "cell_type": "code",
   "execution_count": 53,
   "metadata": {},
   "outputs": [
    {
     "data": {
      "text/html": [
       "<div>\n",
       "<style scoped>\n",
       "    .dataframe tbody tr th:only-of-type {\n",
       "        vertical-align: middle;\n",
       "    }\n",
       "\n",
       "    .dataframe tbody tr th {\n",
       "        vertical-align: top;\n",
       "    }\n",
       "\n",
       "    .dataframe thead th {\n",
       "        text-align: right;\n",
       "    }\n",
       "</style>\n",
       "<table border=\"1\" class=\"dataframe\">\n",
       "  <thead>\n",
       "    <tr style=\"text-align: right;\">\n",
       "      <th></th>\n",
       "      <th>Item_Identifier</th>\n",
       "      <th>Item_Weight</th>\n",
       "      <th>Item_Fat_Content</th>\n",
       "      <th>Item_Visibility</th>\n",
       "      <th>Item_Type</th>\n",
       "      <th>Item_MRP</th>\n",
       "      <th>Outlet_Identifier</th>\n",
       "      <th>Outlet_Establishment_Year</th>\n",
       "      <th>Outlet_Size</th>\n",
       "      <th>Outlet_Location_Type</th>\n",
       "      <th>Outlet_Type</th>\n",
       "    </tr>\n",
       "  </thead>\n",
       "  <tbody>\n",
       "    <tr>\n",
       "      <th>1</th>\n",
       "      <td>FDW14</td>\n",
       "      <td>8.3</td>\n",
       "      <td>reg</td>\n",
       "      <td>0.038428</td>\n",
       "      <td>Dairy</td>\n",
       "      <td>87.3198</td>\n",
       "      <td>OUT017</td>\n",
       "      <td>2007</td>\n",
       "      <td>NaN</td>\n",
       "      <td>Tier 2</td>\n",
       "      <td>Supermarket Type1</td>\n",
       "    </tr>\n",
       "    <tr>\n",
       "      <th>2</th>\n",
       "      <td>NCN55</td>\n",
       "      <td>14.6</td>\n",
       "      <td>Low Fat</td>\n",
       "      <td>0.099575</td>\n",
       "      <td>Others</td>\n",
       "      <td>241.7538</td>\n",
       "      <td>OUT010</td>\n",
       "      <td>1998</td>\n",
       "      <td>NaN</td>\n",
       "      <td>Tier 3</td>\n",
       "      <td>Grocery Store</td>\n",
       "    </tr>\n",
       "  </tbody>\n",
       "</table>\n",
       "</div>"
      ],
      "text/plain": [
       "  Item_Identifier  Item_Weight Item_Fat_Content  Item_Visibility Item_Type  \\\n",
       "1           FDW14          8.3              reg         0.038428     Dairy   \n",
       "2           NCN55         14.6          Low Fat         0.099575    Others   \n",
       "\n",
       "   Item_MRP Outlet_Identifier  Outlet_Establishment_Year Outlet_Size  \\\n",
       "1   87.3198            OUT017                       2007         NaN   \n",
       "2  241.7538            OUT010                       1998         NaN   \n",
       "\n",
       "  Outlet_Location_Type        Outlet_Type  \n",
       "1               Tier 2  Supermarket Type1  \n",
       "2               Tier 3      Grocery Store  "
      ]
     },
     "execution_count": 53,
     "metadata": {},
     "output_type": "execute_result"
    }
   ],
   "source": [
    "# load test data\n",
    "stores_assortments = pd.read_csv(r'/Users/yadav.a.1/Downloads/test_AbJTz2l.csv')\n",
    "stores_assortments[1:3]"
   ]
  },
  {
   "cell_type": "markdown",
   "metadata": {},
   "source": [
    "clean categorical columns"
   ]
  },
  {
   "cell_type": "code",
   "execution_count": 54,
   "metadata": {},
   "outputs": [
    {
     "name": "stdout",
     "output_type": "stream",
     "text": [
      "columns cleaned!\n",
      " ['LF' 'reg']\n"
     ]
    }
   ],
   "source": [
    "# clean categorical columns\n",
    "stores_assortments = clean_cat_columns(stores_assortments)\n",
    "print(\"columns cleaned!\\n\", stores_assortments['Item_Fat_Content'].unique())"
   ]
  },
  {
   "cell_type": "markdown",
   "metadata": {},
   "source": [
    "Fill missing values"
   ]
  },
  {
   "cell_type": "code",
   "execution_count": 55,
   "metadata": {},
   "outputs": [
    {
     "data": {
      "text/plain": [
       "Item_Identifier                 0\n",
       "Item_Weight                   976\n",
       "Item_Fat_Content                0\n",
       "Item_Visibility                 0\n",
       "Item_Type                       0\n",
       "Item_MRP                        0\n",
       "Outlet_Identifier               0\n",
       "Outlet_Establishment_Year       0\n",
       "Outlet_Size                  1606\n",
       "Outlet_Location_Type            0\n",
       "Outlet_Type                     0\n",
       "dtype: int64"
      ]
     },
     "execution_count": 55,
     "metadata": {},
     "output_type": "execute_result"
    }
   ],
   "source": [
    "stores_assortments.isna().sum()"
   ]
  },
  {
   "cell_type": "code",
   "execution_count": 56,
   "metadata": {},
   "outputs": [],
   "source": [
    "outlets = stores_assortments[['Outlet_Identifier', 'Outlet_Size','Outlet_Location_Type', \n",
    "            'Outlet_Establishment_Year', 'Outlet_Type']].drop_duplicates()\n",
    "\n",
    "oulets_missing_size = outlets[outlets['Outlet_Size'].isna()]\n",
    "oulets_with_size = outlets[~outlets['Outlet_Size'].isna()]"
   ]
  },
  {
   "cell_type": "code",
   "execution_count": 57,
   "metadata": {},
   "outputs": [
    {
     "data": {
      "text/html": [
       "<div>\n",
       "<style scoped>\n",
       "    .dataframe tbody tr th:only-of-type {\n",
       "        vertical-align: middle;\n",
       "    }\n",
       "\n",
       "    .dataframe tbody tr th {\n",
       "        vertical-align: top;\n",
       "    }\n",
       "\n",
       "    .dataframe thead th {\n",
       "        text-align: right;\n",
       "    }\n",
       "</style>\n",
       "<table border=\"1\" class=\"dataframe\">\n",
       "  <thead>\n",
       "    <tr style=\"text-align: right;\">\n",
       "      <th></th>\n",
       "      <th>Outlet_Identifier</th>\n",
       "      <th>Outlet_Size</th>\n",
       "      <th>Outlet_Location_Type</th>\n",
       "      <th>Outlet_Establishment_Year</th>\n",
       "      <th>Outlet_Type</th>\n",
       "    </tr>\n",
       "  </thead>\n",
       "  <tbody>\n",
       "    <tr>\n",
       "      <th>1</th>\n",
       "      <td>OUT017</td>\n",
       "      <td>NaN</td>\n",
       "      <td>Tier 2</td>\n",
       "      <td>2007</td>\n",
       "      <td>Supermarket Type1</td>\n",
       "    </tr>\n",
       "    <tr>\n",
       "      <th>2</th>\n",
       "      <td>OUT010</td>\n",
       "      <td>NaN</td>\n",
       "      <td>Tier 3</td>\n",
       "      <td>1998</td>\n",
       "      <td>Grocery Store</td>\n",
       "    </tr>\n",
       "    <tr>\n",
       "      <th>8</th>\n",
       "      <td>OUT045</td>\n",
       "      <td>NaN</td>\n",
       "      <td>Tier 2</td>\n",
       "      <td>2002</td>\n",
       "      <td>Supermarket Type1</td>\n",
       "    </tr>\n",
       "  </tbody>\n",
       "</table>\n",
       "</div>"
      ],
      "text/plain": [
       "  Outlet_Identifier Outlet_Size Outlet_Location_Type  \\\n",
       "1            OUT017         NaN               Tier 2   \n",
       "2            OUT010         NaN               Tier 3   \n",
       "8            OUT045         NaN               Tier 2   \n",
       "\n",
       "   Outlet_Establishment_Year        Outlet_Type  \n",
       "1                       2007  Supermarket Type1  \n",
       "2                       1998      Grocery Store  \n",
       "8                       2002  Supermarket Type1  "
      ]
     },
     "execution_count": 57,
     "metadata": {},
     "output_type": "execute_result"
    }
   ],
   "source": [
    "oulets_missing_size"
   ]
  },
  {
   "cell_type": "markdown",
   "metadata": {},
   "source": [
    "same columsn as train. just use teh function"
   ]
  },
  {
   "cell_type": "code",
   "execution_count": 58,
   "metadata": {},
   "outputs": [],
   "source": [
    "stores_assortments = fill_missing_item_weight(stores_assortments, weights_dict)\n",
    "stores_assortments = fill_missing_outlet_size(stores_assortments)"
   ]
  },
  {
   "cell_type": "markdown",
   "metadata": {},
   "source": [
    "encode categorical columns"
   ]
  },
  {
   "cell_type": "code",
   "execution_count": 59,
   "metadata": {},
   "outputs": [
    {
     "data": {
      "text/plain": [
       "{'Item_Fat_Content': LabelEncoder(),\n",
       " 'Outlet_Size': LabelEncoder(),\n",
       " 'Outlet_Location_Type': LabelEncoder(),\n",
       " 'Item_Identifier': LabelEncoder(),\n",
       " 'Item_Type': OneHotEncoder(sparse_output=False),\n",
       " 'Outlet_Type': OneHotEncoder(sparse_output=False),\n",
       " 'Outlet_Identifier': OneHotEncoder(sparse_output=False)}"
      ]
     },
     "execution_count": 59,
     "metadata": {},
     "output_type": "execute_result"
    }
   ],
   "source": [
    "situations_cat_cols_encoders"
   ]
  },
  {
   "cell_type": "code",
   "execution_count": 60,
   "metadata": {},
   "outputs": [
    {
     "name": "stdout",
     "output_type": "stream",
     "text": [
      "\n",
      " Item_Identifier\n",
      "Label encoded Item_Identifier\n",
      "\n",
      " Item_Fat_Content\n",
      "Label encoded Item_Fat_Content\n",
      "\n",
      " Item_Type\n",
      "OneHot encoded Item_Type\n",
      "\n",
      " Outlet_Identifier\n",
      "OneHot encoded Outlet_Identifier\n",
      "\n",
      " Outlet_Size\n",
      "Label encoded Outlet_Size\n",
      "\n",
      " Outlet_Location_Type\n",
      "Label encoded Outlet_Location_Type\n",
      "\n",
      " Outlet_Type\n",
      "OneHot encoded Outlet_Type\n"
     ]
    }
   ],
   "source": [
    "# get categorical cols of stores_assortments\n",
    "stores_assortments_cat_cols_names = get_cat_feature_names(stores_assortments)\n",
    "\n",
    "# got to each cat col of stores_assortments\n",
    "for col in stores_assortments_cat_cols_names:\n",
    "    print(\"\\n\", col)\n",
    "\n",
    "    if col in situations_cat_cols_encoders:\n",
    "        encoder = situations_cat_cols_encoders[col]\n",
    "        # Now, proceed with transformation\n",
    "        if cat_cols_and_encoder_types[col] == 'label':\n",
    "            enc_col = f\"{col}_encoded\"\n",
    "            stores_assortments[enc_col] = encoder.transform(stores_assortments[col])\n",
    "            print(f\"Label encoded {col}\")\n",
    "        else: # OneHotEncoder\n",
    "            enc_col = f\"{col}_encoded\"\n",
    "            encoded_array = encoder.transform(stores_assortments[[col]])\n",
    "            for i, category in enumerate(encoder.categories_[0]):\n",
    "                stores_assortments[f\"{enc_col}_{category}\"] = encoded_array[:, i]\n",
    "            print(f\"OneHot encoded {col}\")\n",
    "    else:\n",
    "        print(f\"Column '{col}' was not in the training data encoders dictionary.\")\n"
   ]
  },
  {
   "cell_type": "markdown",
   "metadata": {},
   "source": [
    "Mask out original cat_columns from dataset"
   ]
  },
  {
   "cell_type": "code",
   "execution_count": 61,
   "metadata": {},
   "outputs": [
    {
     "name": "stdout",
     "output_type": "stream",
     "text": [
      "All columns now\n",
      "________________________________________________________________________________\n",
      "['Item_Identifier' 'Item_Weight' 'Item_Fat_Content' 'Item_Visibility'\n",
      " 'Item_Type' 'Item_MRP' 'Outlet_Identifier' 'Outlet_Establishment_Year'\n",
      " 'Outlet_Size' 'Outlet_Location_Type' 'Outlet_Type'\n",
      " 'Item_Identifier_encoded' 'Item_Fat_Content_encoded'\n",
      " 'Item_Type_encoded_Baking Goods' 'Item_Type_encoded_Breads'\n",
      " 'Item_Type_encoded_Breakfast' 'Item_Type_encoded_Canned'\n",
      " 'Item_Type_encoded_Dairy' 'Item_Type_encoded_Frozen Foods'\n",
      " 'Item_Type_encoded_Fruits and Vegetables' 'Item_Type_encoded_Hard Drinks'\n",
      " 'Item_Type_encoded_Health and Hygiene' 'Item_Type_encoded_Household'\n",
      " 'Item_Type_encoded_Meat' 'Item_Type_encoded_Others'\n",
      " 'Item_Type_encoded_Seafood' 'Item_Type_encoded_Snack Foods'\n",
      " 'Item_Type_encoded_Soft Drinks' 'Item_Type_encoded_Starchy Foods'\n",
      " 'Outlet_Identifier_encoded_OUT010' 'Outlet_Identifier_encoded_OUT013'\n",
      " 'Outlet_Identifier_encoded_OUT017' 'Outlet_Identifier_encoded_OUT018'\n",
      " 'Outlet_Identifier_encoded_OUT019' 'Outlet_Identifier_encoded_OUT027'\n",
      " 'Outlet_Identifier_encoded_OUT035' 'Outlet_Identifier_encoded_OUT045'\n",
      " 'Outlet_Identifier_encoded_OUT046' 'Outlet_Identifier_encoded_OUT049'\n",
      " 'Outlet_Size_encoded' 'Outlet_Location_Type_encoded'\n",
      " 'Outlet_Type_encoded_Grocery Store'\n",
      " 'Outlet_Type_encoded_Supermarket Type1'\n",
      " 'Outlet_Type_encoded_Supermarket Type2'\n",
      " 'Outlet_Type_encoded_Supermarket Type3']\n",
      "\n",
      "\n",
      "only features columns\n",
      "________________________________________________________________________________\n",
      "['Item_Weight', 'Item_Visibility', 'Item_MRP', 'Outlet_Establishment_Year', 'Item_Identifier_encoded', 'Item_Fat_Content_encoded', 'Item_Type_encoded_Baking Goods', 'Item_Type_encoded_Breads', 'Item_Type_encoded_Breakfast', 'Item_Type_encoded_Canned', 'Item_Type_encoded_Dairy', 'Item_Type_encoded_Frozen Foods', 'Item_Type_encoded_Fruits and Vegetables', 'Item_Type_encoded_Hard Drinks', 'Item_Type_encoded_Health and Hygiene', 'Item_Type_encoded_Household', 'Item_Type_encoded_Meat', 'Item_Type_encoded_Others', 'Item_Type_encoded_Seafood', 'Item_Type_encoded_Snack Foods', 'Item_Type_encoded_Soft Drinks', 'Item_Type_encoded_Starchy Foods', 'Outlet_Identifier_encoded_OUT010', 'Outlet_Identifier_encoded_OUT013', 'Outlet_Identifier_encoded_OUT017', 'Outlet_Identifier_encoded_OUT018', 'Outlet_Identifier_encoded_OUT019', 'Outlet_Identifier_encoded_OUT027', 'Outlet_Identifier_encoded_OUT035', 'Outlet_Identifier_encoded_OUT045', 'Outlet_Identifier_encoded_OUT046', 'Outlet_Identifier_encoded_OUT049', 'Outlet_Size_encoded', 'Outlet_Location_Type_encoded', 'Outlet_Type_encoded_Grocery Store', 'Outlet_Type_encoded_Supermarket Type1', 'Outlet_Type_encoded_Supermarket Type2', 'Outlet_Type_encoded_Supermarket Type3'] \n",
      "\n"
     ]
    }
   ],
   "source": [
    "# stores_assortments has all columns. \n",
    "# stores_assortments_cat_cols_names has original cat column names\n",
    "# get all column names now\n",
    "print(\"All columns now\")\n",
    "print('_'*80)\n",
    "all_columns_after_encoding = stores_assortments.columns.values\n",
    "print(all_columns_after_encoding)\n",
    "\n",
    "# remove column names that are in stores_assortments_cat_cols_names and get new column names\n",
    "# Seperate columns that are not in raw cat columns. So, non-cat and encoded cat will be in features\n",
    "only_features = [col for col in all_columns_after_encoding if col not in stores_assortments_cat_cols_names]\n",
    "print(\"\\n\\nonly features columns\")\n",
    "print('_' * 80)\n",
    "print(only_features, \"\\n\")\n",
    "# mask is ready\n"
   ]
  },
  {
   "cell_type": "code",
   "execution_count": 62,
   "metadata": {},
   "outputs": [],
   "source": [
    "all_columns_after_encoding = stores_assortments.columns.values\n",
    "# Seperate columns that are not in raw cat columns. So, non-cat and encoded cat will be in features\n",
    "only_features = [col for col in all_columns_after_encoding if col not in stores_assortments_cat_cols_names]\n",
    "\n",
    "# mask is ready\n",
    "\n",
    "# generate prediction\n",
    "# In your \"generate prediction\" section\n",
    "train_features_columns = situations.columns.tolist() # The columns from your final training df\n",
    "test_features_for_prediction = stores_assortments[train_features_columns]"
   ]
  },
  {
   "cell_type": "code",
   "execution_count": 63,
   "metadata": {},
   "outputs": [],
   "source": [
    "# Now predict using the perfectly aligned dataframe\n",
    "stores_assortments['Item_Outlet_Sales'] = trained_model.predict(test_features_for_prediction)\n",
    "stores_assortments.loc[stores_assortments['Item_Outlet_Sales'] < 0, 'Item_Outlet_Sales'] = 0"
   ]
  },
  {
   "cell_type": "markdown",
   "metadata": {},
   "source": [
    "## Submissions"
   ]
  },
  {
   "cell_type": "markdown",
   "metadata": {},
   "source": [
    "Just keep desiredt columns"
   ]
  },
  {
   "cell_type": "code",
   "execution_count": 65,
   "metadata": {},
   "outputs": [],
   "source": [
    "# use desired features list\n",
    "final_cols = ['Item_Identifier', 'Outlet_Identifier', 'Item_Outlet_Sales']\n",
    "stores_assortments[final_cols].to_csv(r'/Users/yadav.a.1/Downloads/onehot_and_imputation_reorder_xgboost.csv', index=False)"
   ]
  }
 ],
 "metadata": {
  "kernelspec": {
   "display_name": "cpfr-factory",
   "language": "python",
   "name": "python3"
  },
  "language_info": {
   "codemirror_mode": {
    "name": "ipython",
    "version": 3
   },
   "file_extension": ".py",
   "mimetype": "text/x-python",
   "name": "python",
   "nbconvert_exporter": "python",
   "pygments_lexer": "ipython3",
   "version": "3.10.16"
  }
 },
 "nbformat": 4,
 "nbformat_minor": 2
}
