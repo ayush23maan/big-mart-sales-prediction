{
 "cells": [
  {
   "cell_type": "code",
   "execution_count": 1,
   "metadata": {},
   "outputs": [],
   "source": [
    "import pandas as pd\n",
    "import numpy as np\n",
    "from lightgbm import LGBMRegressor\n",
    "import lightgbm as lgb\n",
    "from sklearn.preprocessing import LabelEncoder, OneHotEncoder\n",
    "from sklearn.metrics import mean_squared_error\n",
    "from sklearn.metrics import mean_absolute_percentage_error\n",
    "import matplotlib.pyplot as plt\n",
    "import numpy as np"
   ]
  },
  {
   "cell_type": "code",
   "execution_count": 2,
   "metadata": {},
   "outputs": [],
   "source": [
    "def preprocess_train_data(train_data_path): # include type hints later and \n",
    "    # clean up the return from docstring\n",
    "    \"\"\"\n",
    "    Split train data into features and target\n",
    "    csv file specified in path is read as pandas df.\n",
    "    The columns are renamed. \n",
    "    \n",
    "    Arguments\n",
    "    _________\n",
    "    train_data_path : system path for training csv file\n",
    "    \n",
    "    Returns\n",
    "    _______\n",
    "    Pandas dataframe\n",
    "    \"\"\"\n",
    "    \n",
    "    stores_sales = pd.read_csv(train_data_path)\n",
    "\n",
    "    # rename target column to business for intuition. Increase the business.\n",
    "    stores_sales.rename(columns={'Item_Outlet_Sales':'business'}, inplace=True)\n",
    "\n",
    "    # parse target(buisness) and features(situations) for intuition\n",
    "    situations = stores_sales.drop(columns=['business'])\n",
    "    business = stores_sales['business']\n",
    "\n",
    "    return situations, business"
   ]
  },
  {
   "cell_type": "code",
   "execution_count": 3,
   "metadata": {},
   "outputs": [],
   "source": [
    "def get_cat_feature_names(situations):\n",
    "    \"\"\"\n",
    "    Gives the list of categorical column names\n",
    "\n",
    "    Returns\n",
    "    _______\n",
    "    list of names\n",
    "    \"\"\"\n",
    "    # store column data types as pandas series\n",
    "    columns_types = situations.dtypes\n",
    "\n",
    "    # filter the series for object datatype using object string and get index. \n",
    "    # Then convert index to array\n",
    "    return columns_types[columns_types == 'object'].index.values"
   ]
  },
  {
   "cell_type": "code",
   "execution_count": 4,
   "metadata": {},
   "outputs": [],
   "source": [
    "def get_num_feature_names(situations):\n",
    "    \"\"\"\n",
    "    Gives the list of numerical column names\n",
    "\n",
    "    Returns\n",
    "    _______\n",
    "    list of names\n",
    "    \"\"\"\n",
    "    # store column data types as pandas series\n",
    "    columns_types = situations.dtypes\n",
    "\n",
    "    # filter the series for object datatype using object string and get index. \n",
    "    # Then convert index to array\n",
    "    return columns_types[columns_types != 'object'].index.values"
   ]
  },
  {
   "cell_type": "code",
   "execution_count": 5,
   "metadata": {},
   "outputs": [],
   "source": [
    "def encode_cat_cols(situations, cat_cols_encoder_types):\n",
    "    \"\"\"\n",
    "    Encodes categroical columns in situations.\n",
    "\n",
    "    2. Stores the encoders in a dict against each column name. The column encoder is \n",
    "    retrieved for a col name and fit/trained on that column data in situations. Then, the  \n",
    "    column is then encoded in situations. (Do I need to store the encoder? \n",
    "    Will it be used later on? What about the encoding of future dataset?)\n",
    "\n",
    "    3. The new encoded columns are added to situations with new names.\n",
    "    The encoded name to original name dict is maintained. It is returned for future use.\n",
    "    \n",
    "    Returns\n",
    "    _______\n",
    "    situations df with encoded columns\n",
    "    enc_col_names_to_col_names_dict\n",
    "    \n",
    "    \"\"\"\n",
    "\n",
    "    # col encoders dictionary will store the encoders for each colum\n",
    "    col_encoders_dict = {}\n",
    "\n",
    "    # enc_col_names_to_col_names_dict will store the encoded column name\n",
    "    # to original column name mapping \n",
    "    enc_col_names_to_col_names_dict = {}\n",
    "\n",
    "    # Pick up cat column from cat_cols_encoder_types one at a time\n",
    "    for col, encoder_type in cat_cols_encoder_types.items():\n",
    "        encoded_col_name = f\"{col}_encoded\"\n",
    "\n",
    "        # storing mapping from encoded columns \n",
    "        # to original columns\n",
    "        enc_col_names_to_col_names_dict[encoded_col_name] = col\n",
    "\n",
    "        # Creating encoder for each column and storing in dict\n",
    "        if encoder_type == 'label':\n",
    "            col_encoders_dict[col] = LabelEncoder()\n",
    "            # fitting the encoders on cat column of situation and\n",
    "            # encoding the columns in situations\n",
    "            situations[encoded_col_name] = col_encoders_dict[col].fit_transform(situations[col])\n",
    "        else:\n",
    "            col_encoders_dict[col] = OneHotEncoder(sparse_output=False)\n",
    "            # fitting the encoders on cat column of situation and\n",
    "            # encoding the columns in situations\n",
    "            encoded_array = col_encoders_dict[col].fit_transform(situations[[col]])\n",
    "            # Add the one-hot encoded columns to the DataFrame\n",
    "            for i, category in enumerate(col_encoders_dict[col].categories_[0]):\n",
    "                situations[f\"{encoded_col_name}_{category}\"] = encoded_array[:, i]\n",
    "\n",
    "    return situations, col_encoders_dict"
   ]
  },
  {
   "cell_type": "code",
   "execution_count": 6,
   "metadata": {},
   "outputs": [],
   "source": [
    "def get_unique_cat_values_from_situations(situations):\n",
    "    situations_cat_cols_names = get_cat_feature_names(situations)\n",
    "    situations_cat_cols_values = {}\n",
    "\n",
    "    for cat_col in situations_cat_cols_names:\n",
    "        # get one column of the situation\n",
    "        # store the unique values in a dict\n",
    "        situations_cat_cols_values[cat_col] = situations[cat_col].unique()\n",
    "        # return the dict to visualise it\n",
    "\n",
    "    return situations_cat_cols_values"
   ]
  },
  {
   "cell_type": "code",
   "execution_count": 7,
   "metadata": {},
   "outputs": [],
   "source": [
    "def clean_cat_columns(situations):\n",
    "    \"\"\"\n",
    "    standardise the categories within catgeorical columns.\n",
    "    Removes duplicate categories\n",
    "\n",
    "    Returns\n",
    "    _______\n",
    "    df with categories cleaned\n",
    "    \"\"\"\n",
    "    # replace 'Low Fat' 'low fat' with LF in Item_Fat_Content\n",
    "    situations.loc[(situations['Item_Fat_Content'] == 'Low Fat')\\\n",
    "                    | (situations['Item_Fat_Content'] == 'low fat'),\\\n",
    "                    'Item_Fat_Content'] = 'LF'\n",
    "    \n",
    "    # replace 'Low Fat' 'low fat' with LF in Item_Fat_Content\n",
    "    situations.loc[situations['Item_Fat_Content'] == 'Regular','Item_Fat_Content'] = 'reg'    \n",
    "\n",
    "    return situations"
   ]
  },
  {
   "cell_type": "markdown",
   "metadata": {},
   "source": [
    "## Cleaning"
   ]
  },
  {
   "cell_type": "code",
   "execution_count": 8,
   "metadata": {},
   "outputs": [],
   "source": [
    "train_data_path = r'/Users/yadav.a.1/Downloads/train_v9rqX0R.csv'\n",
    "situations, business  = preprocess_train_data(train_data_path=train_data_path)\n",
    "num_of_rows_situations = len(situations) # use this in .iloc[num_of_rows_situations:] to get stores_assortments back\n",
    "\n",
    "stores_assortments    = pd.read_csv(r'/Users/yadav.a.1/Downloads/test_AbJTz2l.csv')\n",
    "num_of_rows_assortments = len(stores_assortments) # use later for checking the number of rows after splititng"
   ]
  },
  {
   "cell_type": "code",
   "execution_count": 9,
   "metadata": {},
   "outputs": [
    {
     "data": {
      "text/plain": [
       "array([14204,    22])"
      ]
     },
     "execution_count": 9,
     "metadata": {},
     "output_type": "execute_result"
    }
   ],
   "source": [
    "np.array(situations.shape) + np.array(stores_assortments.shape)"
   ]
  },
  {
   "cell_type": "code",
   "execution_count": 10,
   "metadata": {},
   "outputs": [
    {
     "data": {
      "text/plain": [
       "array([14204,    11])"
      ]
     },
     "execution_count": 10,
     "metadata": {},
     "output_type": "execute_result"
    }
   ],
   "source": [
    "situations = pd.concat([stores_assortments, situations], axis=0, ignore_index=True)\n",
    "np.array(situations.shape)"
   ]
  },
  {
   "cell_type": "markdown",
   "metadata": {},
   "source": [
    "### Clean up categorical columns. \n",
    "First See the values"
   ]
  },
  {
   "cell_type": "code",
   "execution_count": 11,
   "metadata": {},
   "outputs": [
    {
     "name": "stdout",
     "output_type": "stream",
     "text": [
      "\n",
      " Item_Identifier \n",
      " ['FDW58' 'FDW14' 'NCN55' ... 'FDL10' 'FDX04' 'FDU19']\n",
      "\n",
      " Item_Fat_Content \n",
      " ['Low Fat' 'reg' 'Regular' 'LF' 'low fat']\n",
      "\n",
      " Item_Type \n",
      " ['Snack Foods' 'Dairy' 'Others' 'Fruits and Vegetables' 'Baking Goods'\n",
      " 'Health and Hygiene' 'Breads' 'Hard Drinks' 'Seafood' 'Soft Drinks'\n",
      " 'Household' 'Frozen Foods' 'Meat' 'Canned' 'Starchy Foods' 'Breakfast']\n",
      "\n",
      " Outlet_Identifier \n",
      " ['OUT049' 'OUT017' 'OUT010' 'OUT027' 'OUT046' 'OUT018' 'OUT045' 'OUT019'\n",
      " 'OUT013' 'OUT035']\n",
      "\n",
      " Outlet_Size \n",
      " ['Medium' nan 'Small' 'High']\n",
      "\n",
      " Outlet_Location_Type \n",
      " ['Tier 1' 'Tier 2' 'Tier 3']\n",
      "\n",
      " Outlet_Type \n",
      " ['Supermarket Type1' 'Grocery Store' 'Supermarket Type3'\n",
      " 'Supermarket Type2']\n"
     ]
    }
   ],
   "source": [
    "situations_cat_cols_values_dict = get_unique_cat_values_from_situations(situations)\n",
    "for col in situations_cat_cols_values_dict:\n",
    "    print(\"\\n\", col, \"\\n\", situations_cat_cols_values_dict[col])"
   ]
  },
  {
   "cell_type": "markdown",
   "metadata": {},
   "source": [
    "standardise categoriies to remove duplicates\n",
    "Item_Fat_Content : combine 'Low Fat' 'low fat' 'LF' and 'Regular''reg'"
   ]
  },
  {
   "cell_type": "code",
   "execution_count": 12,
   "metadata": {},
   "outputs": [
    {
     "name": "stdout",
     "output_type": "stream",
     "text": [
      "\n",
      " ['LF' 'reg']\n"
     ]
    }
   ],
   "source": [
    "situations = clean_cat_columns(situations)\n",
    "print(\"\\n\", situations['Item_Fat_Content'].unique())"
   ]
  },
  {
   "cell_type": "markdown",
   "metadata": {},
   "source": [
    "### Cleaning up numerical columns\n",
    "'Item_Weight' 'Item_Visibility' 'Item_MRP' 'Outlet_Establishment_Year'"
   ]
  },
  {
   "cell_type": "code",
   "execution_count": 13,
   "metadata": {},
   "outputs": [
    {
     "name": "stdout",
     "output_type": "stream",
     "text": [
      "['Item_Weight' 'Item_Visibility' 'Item_MRP' 'Outlet_Establishment_Year']\n"
     ]
    }
   ],
   "source": [
    "num_cols = get_num_feature_names(situations)\n",
    "print(num_cols)"
   ]
  },
  {
   "cell_type": "markdown",
   "metadata": {},
   "source": [
    "1. boxplot will show us outliers\n",
    "2. Histogram will show us garbage values\n",
    "3. print unique values of year"
   ]
  },
  {
   "cell_type": "markdown",
   "metadata": {},
   "source": [
    "Outlet_Establishment_Year"
   ]
  },
  {
   "cell_type": "code",
   "execution_count": 14,
   "metadata": {},
   "outputs": [
    {
     "name": "stdout",
     "output_type": "stream",
     "text": [
      "[1985, 1987, 1997, 1998, 1999, 2002, 2004, 2007, 2009]\n"
     ]
    }
   ],
   "source": [
    "print(sorted(situations['Outlet_Establishment_Year'].unique()))"
   ]
  },
  {
   "cell_type": "code",
   "execution_count": 15,
   "metadata": {},
   "outputs": [
    {
     "data": {
      "text/plain": [
       "<BarContainer object of 9 artists>"
      ]
     },
     "execution_count": 15,
     "metadata": {},
     "output_type": "execute_result"
    },
    {
     "data": {
      "image/png": "[encoded data removed]",
      "text/plain": [
       "<Figure size 640x480 with 1 Axes>"
      ]
     },
     "metadata": {},
     "output_type": "display_data"
    }
   ],
   "source": [
    "year_value_counts = situations['Outlet_Establishment_Year'].value_counts()\n",
    "plt.bar(year_value_counts.index, year_value_counts.values)"
   ]
  },
  {
   "cell_type": "markdown",
   "metadata": {},
   "source": [
    "Item_Weight\n",
    "histogram"
   ]
  },
  {
   "cell_type": "code",
   "execution_count": 16,
   "metadata": {},
   "outputs": [
    {
     "data": {
      "text/plain": [
       "(array([ 820., 1496., 1440., 1176., 1244., 1022., 1275., 1189., 1094.,\n",
       "        1009.]),\n",
       " array([ 4.555 ,  6.2345,  7.914 ,  9.5935, 11.273 , 12.9525, 14.632 ,\n",
       "        16.3115, 17.991 , 19.6705, 21.35  ]),\n",
       " <BarContainer object of 10 artists>)"
      ]
     },
     "execution_count": 16,
     "metadata": {},
     "output_type": "execute_result"
    },
    {
     "data": {
      "image/png": "[encoded data removed]",
      "text/plain": [
       "<Figure size 640x480 with 1 Axes>"
      ]
     },
     "metadata": {},
     "output_type": "display_data"
    }
   ],
   "source": [
    "plt.hist(situations['Item_Weight'])"
   ]
  },
  {
   "cell_type": "markdown",
   "metadata": {},
   "source": [
    "Item_Visibility\n",
    "1. hist, boxplot"
   ]
  },
  {
   "cell_type": "code",
   "execution_count": 17,
   "metadata": {},
   "outputs": [
    {
     "data": {
      "text/plain": [
       "(array([4390., 3918., 2611., 1650.,  939.,  447.,  105.,   65.,   50.,\n",
       "          29.]),\n",
       " array([0.        , 0.03283909, 0.06567819, 0.09851728, 0.13135638,\n",
       "        0.16419547, 0.19703457, 0.22987366, 0.26271276, 0.29555185,\n",
       "        0.32839095]),\n",
       " <BarContainer object of 10 artists>)"
      ]
     },
     "execution_count": 17,
     "metadata": {},
     "output_type": "execute_result"
    },
    {
     "data": {
      "image/png": "[encoded data removed]",
      "text/plain": [
       "<Figure size 640x480 with 1 Axes>"
      ]
     },
     "metadata": {},
     "output_type": "display_data"
    }
   ],
   "source": [
    "plt.hist(situations['Item_Visibility'])"
   ]
  },
  {
   "cell_type": "code",
   "execution_count": 18,
   "metadata": {},
   "outputs": [
    {
     "data": {
      "text/plain": [
       "{'whiskers': [<matplotlib.lines.Line2D at 0x16b79a980>,\n",
       "  <matplotlib.lines.Line2D at 0x16b79ac80>],\n",
       " 'caps': [<matplotlib.lines.Line2D at 0x16b79af80>,\n",
       "  <matplotlib.lines.Line2D at 0x16b79b280>],\n",
       " 'boxes': [<matplotlib.lines.Line2D at 0x16b79a680>],\n",
       " 'medians': [<matplotlib.lines.Line2D at 0x16b79b580>],\n",
       " 'fliers': [<matplotlib.lines.Line2D at 0x16b79b880>],\n",
       " 'means': []}"
      ]
     },
     "execution_count": 18,
     "metadata": {},
     "output_type": "execute_result"
    },
    {
     "data": {
      "image/png": "[encoded data removed]",
      "text/plain": [
       "<Figure size 640x480 with 1 Axes>"
      ]
     },
     "metadata": {},
     "output_type": "display_data"
    }
   ],
   "source": [
    "plt.boxplot(situations['Item_Visibility'])"
   ]
  },
  {
   "cell_type": "markdown",
   "metadata": {},
   "source": [
    "Item_MRP"
   ]
  },
  {
   "cell_type": "code",
   "execution_count": 19,
   "metadata": {},
   "outputs": [
    {
     "data": {
      "text/plain": [
       "(array([1519.,  953., 1745., 2140., 1322., 1816., 2009.,  783.,  966.,\n",
       "         951.]),\n",
       " array([ 31.29   ,  54.84984,  78.40968, 101.96952, 125.52936, 149.0892 ,\n",
       "        172.64904, 196.20888, 219.76872, 243.32856, 266.8884 ]),\n",
       " <BarContainer object of 10 artists>)"
      ]
     },
     "execution_count": 19,
     "metadata": {},
     "output_type": "execute_result"
    },
    {
     "data": {
      "image/png": "[encoded data removed]",
      "text/plain": [
       "<Figure size 640x480 with 1 Axes>"
      ]
     },
     "metadata": {},
     "output_type": "display_data"
    }
   ],
   "source": [
    "plt.hist(situations['Item_MRP'])"
   ]
  },
  {
   "cell_type": "code",
   "execution_count": 20,
   "metadata": {},
   "outputs": [
    {
     "data": {
      "text/plain": [
       "{'whiskers': [<matplotlib.lines.Line2D at 0x16b89de70>,\n",
       "  <matplotlib.lines.Line2D at 0x16b89e170>],\n",
       " 'caps': [<matplotlib.lines.Line2D at 0x16b89e470>,\n",
       "  <matplotlib.lines.Line2D at 0x16b89e770>],\n",
       " 'boxes': [<matplotlib.lines.Line2D at 0x16b89c9d0>],\n",
       " 'medians': [<matplotlib.lines.Line2D at 0x16b89ea70>],\n",
       " 'fliers': [<matplotlib.lines.Line2D at 0x16b89ed70>],\n",
       " 'means': []}"
      ]
     },
     "execution_count": 20,
     "metadata": {},
     "output_type": "execute_result"
    },
    {
     "data": {
      "image/png": "[encoded data removed]",
      "text/plain": [
       "<Figure size 640x480 with 1 Axes>"
      ]
     },
     "metadata": {},
     "output_type": "display_data"
    }
   ],
   "source": [
    "plt.boxplot(situations['Item_MRP'])"
   ]
  },
  {
   "cell_type": "markdown",
   "metadata": {},
   "source": [
    "## Missing Values"
   ]
  },
  {
   "cell_type": "code",
   "execution_count": 21,
   "metadata": {},
   "outputs": [
    {
     "data": {
      "text/plain": [
       "Item_Identifier               0.000000\n",
       "Item_Weight                  17.171219\n",
       "Item_Fat_Content              0.000000\n",
       "Item_Visibility               0.000000\n",
       "Item_Type                     0.000000\n",
       "Item_MRP                      0.000000\n",
       "Outlet_Identifier             0.000000\n",
       "Outlet_Establishment_Year     0.000000\n",
       "Outlet_Size                  28.273726\n",
       "Outlet_Location_Type          0.000000\n",
       "Outlet_Type                   0.000000\n",
       "dtype: float64"
      ]
     },
     "execution_count": 21,
     "metadata": {},
     "output_type": "execute_result"
    }
   ],
   "source": [
    "situations.isna().sum() * 100 / len(situations)"
   ]
  },
  {
   "cell_type": "markdown",
   "metadata": {},
   "source": [
    "Fill missing values in Item_Weight"
   ]
  },
  {
   "cell_type": "markdown",
   "metadata": {},
   "source": [
    " 1. We'll normalize the numerical columns like Item_Visibility and Item_MRP. Finally, we'll apply k-NN imputation. Ww will also use one hot encoded Item_Identifier_encoded, and Item_Type_encoded and label encoded Item_Fat_Content_encoded to estimate the missing values in Item_Weight, experimenting with different values of k to find the best fit.\n",
    "\n",
    " 2. Use itme identifier to fill in weight. Yes, that's exactly right. You'll create a dictionary mapping item identifiers to their weights, then use that dictionary to fill in the missing weights based on the item identifier. It's a straightforward and efficient way to handle the missing data in this case."
   ]
  },
  {
   "cell_type": "code",
   "execution_count": 22,
   "metadata": {},
   "outputs": [
    {
     "name": "stdout",
     "output_type": "stream",
     "text": [
      "1559 1559\n",
      "1559\n"
     ]
    }
   ],
   "source": [
    "# create dict with item identifiers as keys and real weights as values\n",
    "# get item identifers with non missing weights\n",
    "weights_df = situations[~situations['Item_Weight'].isna()][['Item_Identifier', 'Item_Weight']].drop_duplicates()\n",
    "weights_dict = weights_df.set_index('Item_Identifier')['Item_Weight'].to_dict()\n",
    "\n",
    "# create a list of item identifiers with missing weights.\n",
    "missing_weights_items = situations[situations['Item_Weight'].isna()]['Item_Identifier'].drop_duplicates()\n",
    "\n",
    "print(len(missing_weights_items), len(weights_dict))\n",
    "\n",
    "# check if they have weights in the dict\n",
    "found_items = set(missing_weights_items).intersection(set(weights_dict))\n",
    "print(len(found_items))"
   ]
  },
  {
   "cell_type": "markdown",
   "metadata": {},
   "source": [
    "fill the 1138 item weights and just fill the category mean for the reamining 4.\n",
    "The fillna method will just look up those IDs in the dict that are missing the weights. Then it will map the corrsponign weight from the dict \n"
   ]
  },
  {
   "cell_type": "code",
   "execution_count": 23,
   "metadata": {},
   "outputs": [],
   "source": [
    "def fill_missing_item_weight(situations, weights_dict):\n",
    "    situations['Item_Weight'].fillna(situations['Item_Identifier'].map(weights_dict), inplace=True)\n",
    "    situations['Item_Weight'].fillna(situations['Item_Weight'].mean(), inplace=True)\n",
    "\n",
    "    return situations"
   ]
  },
  {
   "cell_type": "code",
   "execution_count": 24,
   "metadata": {},
   "outputs": [
    {
     "data": {
      "text/plain": [
       "Item_Identifier                 0\n",
       "Item_Weight                     0\n",
       "Item_Fat_Content                0\n",
       "Item_Visibility                 0\n",
       "Item_Type                       0\n",
       "Item_MRP                        0\n",
       "Outlet_Identifier               0\n",
       "Outlet_Establishment_Year       0\n",
       "Outlet_Size                  4016\n",
       "Outlet_Location_Type            0\n",
       "Outlet_Type                     0\n",
       "dtype: int64"
      ]
     },
     "execution_count": 24,
     "metadata": {},
     "output_type": "execute_result"
    }
   ],
   "source": [
    "situations = fill_missing_item_weight(situations, weights_dict) \n",
    "situations.isna().sum()"
   ]
  },
  {
   "cell_type": "markdown",
   "metadata": {},
   "source": [
    "Fill missing values in Outlet_Size"
   ]
  },
  {
   "cell_type": "code",
   "execution_count": 25,
   "metadata": {},
   "outputs": [
    {
     "name": "stdout",
     "output_type": "stream",
     "text": [
      "3 7\n",
      "0\n"
     ]
    }
   ],
   "source": [
    "# create dict with item identifiers as keys and real weights as values\n",
    "# get item identifers with non missing weights\n",
    "weights_df = situations[~situations['Outlet_Size'].isna()][['Outlet_Identifier', 'Outlet_Size']].drop_duplicates()\n",
    "weights_dict = weights_df.set_index('Outlet_Identifier')['Outlet_Size'].to_dict()\n",
    "\n",
    "# create a list of item identifiers with missing weights.\n",
    "missing_weights_items = situations[situations['Outlet_Size'].isna()]['Outlet_Identifier'].drop_duplicates()\n",
    "\n",
    "print(len(missing_weights_items), len(weights_dict))\n",
    "\n",
    "# check if they have weights in the dict\n",
    "found_items = set(missing_weights_items).intersection(set(weights_dict))\n",
    "print(len(found_items))"
   ]
  },
  {
   "cell_type": "markdown",
   "metadata": {},
   "source": [
    "Cannot fill outlet size using a map. Unique outlets are missing size. What re thes eoutlet types? What are there years?\n"
   ]
  },
  {
   "cell_type": "markdown",
   "metadata": {},
   "source": [
    "That's correct. Outlet_Identifier won't be necessary for k-NN imputation, and Outlet_Establishment_Year should be normalized. We can use standardization or min-max scaling for that."
   ]
  },
  {
   "cell_type": "markdown",
   "metadata": {},
   "source": [
    "1. with this kn imputation i want your advice so i'm thinking i'll create a new data set with just the outlet features except the outlet identifier and then I'll normalize or whatever you know scale the establishment here so how is that sounding to get started\n",
    "2. "
   ]
  },
  {
   "cell_type": "code",
   "execution_count": 26,
   "metadata": {},
   "outputs": [
    {
     "data": {
      "text/plain": [
       "Index(['Item_Identifier', 'Item_Weight', 'Item_Fat_Content', 'Item_Visibility',\n",
       "       'Item_Type', 'Item_MRP', 'Outlet_Identifier',\n",
       "       'Outlet_Establishment_Year', 'Outlet_Size', 'Outlet_Location_Type',\n",
       "       'Outlet_Type'],\n",
       "      dtype='object')"
      ]
     },
     "execution_count": 26,
     "metadata": {},
     "output_type": "execute_result"
    }
   ],
   "source": [
    "situations.columns"
   ]
  },
  {
   "cell_type": "code",
   "execution_count": 27,
   "metadata": {},
   "outputs": [],
   "source": [
    "outlets = situations[['Outlet_Identifier', 'Outlet_Size','Outlet_Location_Type', \n",
    "            'Outlet_Establishment_Year', 'Outlet_Type']].drop_duplicates()\n",
    "\n",
    "oulets_missing_size = outlets[outlets['Outlet_Size'].isna()]\n",
    "oulets_with_size = outlets[~outlets['Outlet_Size'].isna()]"
   ]
  },
  {
   "cell_type": "code",
   "execution_count": 28,
   "metadata": {},
   "outputs": [
    {
     "data": {
      "text/html": [
       "<div>\n",
       "<style scoped>\n",
       "    .dataframe tbody tr th:only-of-type {\n",
       "        vertical-align: middle;\n",
       "    }\n",
       "\n",
       "    .dataframe tbody tr th {\n",
       "        vertical-align: top;\n",
       "    }\n",
       "\n",
       "    .dataframe thead th {\n",
       "        text-align: right;\n",
       "    }\n",
       "</style>\n",
       "<table border=\"1\" class=\"dataframe\">\n",
       "  <thead>\n",
       "    <tr style=\"text-align: right;\">\n",
       "      <th></th>\n",
       "      <th>Outlet_Identifier</th>\n",
       "      <th>Outlet_Size</th>\n",
       "      <th>Outlet_Location_Type</th>\n",
       "      <th>Outlet_Establishment_Year</th>\n",
       "      <th>Outlet_Type</th>\n",
       "    </tr>\n",
       "  </thead>\n",
       "  <tbody>\n",
       "    <tr>\n",
       "      <th>1</th>\n",
       "      <td>OUT017</td>\n",
       "      <td>NaN</td>\n",
       "      <td>Tier 2</td>\n",
       "      <td>2007</td>\n",
       "      <td>Supermarket Type1</td>\n",
       "    </tr>\n",
       "    <tr>\n",
       "      <th>2</th>\n",
       "      <td>OUT010</td>\n",
       "      <td>NaN</td>\n",
       "      <td>Tier 3</td>\n",
       "      <td>1998</td>\n",
       "      <td>Grocery Store</td>\n",
       "    </tr>\n",
       "    <tr>\n",
       "      <th>8</th>\n",
       "      <td>OUT045</td>\n",
       "      <td>NaN</td>\n",
       "      <td>Tier 2</td>\n",
       "      <td>2002</td>\n",
       "      <td>Supermarket Type1</td>\n",
       "    </tr>\n",
       "  </tbody>\n",
       "</table>\n",
       "</div>"
      ],
      "text/plain": [
       "  Outlet_Identifier Outlet_Size Outlet_Location_Type  \\\n",
       "1            OUT017         NaN               Tier 2   \n",
       "2            OUT010         NaN               Tier 3   \n",
       "8            OUT045         NaN               Tier 2   \n",
       "\n",
       "   Outlet_Establishment_Year        Outlet_Type  \n",
       "1                       2007  Supermarket Type1  \n",
       "2                       1998      Grocery Store  \n",
       "8                       2002  Supermarket Type1  "
      ]
     },
     "execution_count": 28,
     "metadata": {},
     "output_type": "execute_result"
    }
   ],
   "source": [
    "oulets_missing_size"
   ]
  },
  {
   "cell_type": "code",
   "execution_count": 29,
   "metadata": {},
   "outputs": [
    {
     "data": {
      "text/html": [
       "<div>\n",
       "<style scoped>\n",
       "    .dataframe tbody tr th:only-of-type {\n",
       "        vertical-align: middle;\n",
       "    }\n",
       "\n",
       "    .dataframe tbody tr th {\n",
       "        vertical-align: top;\n",
       "    }\n",
       "\n",
       "    .dataframe thead th {\n",
       "        text-align: right;\n",
       "    }\n",
       "</style>\n",
       "<table border=\"1\" class=\"dataframe\">\n",
       "  <thead>\n",
       "    <tr style=\"text-align: right;\">\n",
       "      <th></th>\n",
       "      <th>Outlet_Identifier</th>\n",
       "      <th>Outlet_Size</th>\n",
       "      <th>Outlet_Location_Type</th>\n",
       "      <th>Outlet_Establishment_Year</th>\n",
       "      <th>Outlet_Type</th>\n",
       "    </tr>\n",
       "  </thead>\n",
       "  <tbody>\n",
       "    <tr>\n",
       "      <th>0</th>\n",
       "      <td>OUT049</td>\n",
       "      <td>Medium</td>\n",
       "      <td>Tier 1</td>\n",
       "      <td>1999</td>\n",
       "      <td>Supermarket Type1</td>\n",
       "    </tr>\n",
       "    <tr>\n",
       "      <th>4</th>\n",
       "      <td>OUT027</td>\n",
       "      <td>Medium</td>\n",
       "      <td>Tier 3</td>\n",
       "      <td>1985</td>\n",
       "      <td>Supermarket Type3</td>\n",
       "    </tr>\n",
       "    <tr>\n",
       "      <th>5</th>\n",
       "      <td>OUT046</td>\n",
       "      <td>Small</td>\n",
       "      <td>Tier 1</td>\n",
       "      <td>1997</td>\n",
       "      <td>Supermarket Type1</td>\n",
       "    </tr>\n",
       "    <tr>\n",
       "      <th>6</th>\n",
       "      <td>OUT018</td>\n",
       "      <td>Medium</td>\n",
       "      <td>Tier 3</td>\n",
       "      <td>2009</td>\n",
       "      <td>Supermarket Type2</td>\n",
       "    </tr>\n",
       "    <tr>\n",
       "      <th>12</th>\n",
       "      <td>OUT019</td>\n",
       "      <td>Small</td>\n",
       "      <td>Tier 1</td>\n",
       "      <td>1985</td>\n",
       "      <td>Grocery Store</td>\n",
       "    </tr>\n",
       "    <tr>\n",
       "      <th>14</th>\n",
       "      <td>OUT013</td>\n",
       "      <td>High</td>\n",
       "      <td>Tier 3</td>\n",
       "      <td>1987</td>\n",
       "      <td>Supermarket Type1</td>\n",
       "    </tr>\n",
       "    <tr>\n",
       "      <th>21</th>\n",
       "      <td>OUT035</td>\n",
       "      <td>Small</td>\n",
       "      <td>Tier 2</td>\n",
       "      <td>2004</td>\n",
       "      <td>Supermarket Type1</td>\n",
       "    </tr>\n",
       "  </tbody>\n",
       "</table>\n",
       "</div>"
      ],
      "text/plain": [
       "   Outlet_Identifier Outlet_Size Outlet_Location_Type  \\\n",
       "0             OUT049      Medium               Tier 1   \n",
       "4             OUT027      Medium               Tier 3   \n",
       "5             OUT046       Small               Tier 1   \n",
       "6             OUT018      Medium               Tier 3   \n",
       "12            OUT019       Small               Tier 1   \n",
       "14            OUT013        High               Tier 3   \n",
       "21            OUT035       Small               Tier 2   \n",
       "\n",
       "    Outlet_Establishment_Year        Outlet_Type  \n",
       "0                        1999  Supermarket Type1  \n",
       "4                        1985  Supermarket Type3  \n",
       "5                        1997  Supermarket Type1  \n",
       "6                        2009  Supermarket Type2  \n",
       "12                       1985      Grocery Store  \n",
       "14                       1987  Supermarket Type1  \n",
       "21                       2004  Supermarket Type1  "
      ]
     },
     "execution_count": 29,
     "metadata": {},
     "output_type": "execute_result"
    }
   ],
   "source": [
    "oulets_with_size"
   ]
  },
  {
   "cell_type": "markdown",
   "metadata": {},
   "source": [
    "OUT017 tier 2 outlet of supermarket type that opened in 2007.There is just one oulet OUT035, similar to that. Good thing is its very similar so Ill use this small size to impute. \n",
    "\n",
    "OUT045 tier 2 outlet of supermarket type that opened in 2002. Again using OUT035 size Small.\n",
    "\n",
    "OUT010 is tier 3 grocery in 1998. No similar store. So, I will just medium. "
   ]
  },
  {
   "cell_type": "code",
   "execution_count": 30,
   "metadata": {},
   "outputs": [],
   "source": [
    "def fill_missing_outlet_size(situations):    \n",
    "    situations.loc[situations['Outlet_Identifier'] == 'OUT017', 'Outlet_Size'] = 'Small'\n",
    "    situations.loc[situations['Outlet_Identifier'] == 'OUT045', 'Outlet_Size'] = 'Small'\n",
    "    situations.loc[situations['Outlet_Identifier'] == 'OUT010', 'Outlet_Size'] = 'Medium'\n",
    "\n",
    "    return situations"
   ]
  },
  {
   "cell_type": "code",
   "execution_count": 31,
   "metadata": {},
   "outputs": [],
   "source": [
    "situations = fill_missing_outlet_size(situations)"
   ]
  },
  {
   "cell_type": "code",
   "execution_count": 32,
   "metadata": {},
   "outputs": [
    {
     "data": {
      "text/plain": [
       "Item_Identifier              0\n",
       "Item_Weight                  0\n",
       "Item_Fat_Content             0\n",
       "Item_Visibility              0\n",
       "Item_Type                    0\n",
       "Item_MRP                     0\n",
       "Outlet_Identifier            0\n",
       "Outlet_Establishment_Year    0\n",
       "Outlet_Size                  0\n",
       "Outlet_Location_Type         0\n",
       "Outlet_Type                  0\n",
       "dtype: int64"
      ]
     },
     "execution_count": 32,
     "metadata": {},
     "output_type": "execute_result"
    }
   ],
   "source": [
    "situations.isna().sum()"
   ]
  },
  {
   "cell_type": "markdown",
   "metadata": {},
   "source": [
    "## Encoding categorical variables"
   ]
  },
  {
   "cell_type": "code",
   "execution_count": 33,
   "metadata": {
    "vscode": {
     "languageId": "ruby"
    }
   },
   "outputs": [
    {
     "name": "stdout",
     "output_type": "stream",
     "text": [
      "{'Item_Fat_Content': 'label', 'Outlet_Size': 'label', 'Outlet_Location_Type': 'label', 'Item_Identifier': 'label', 'Item_Type': 'onehot', 'Outlet_Type': 'onehot', 'Outlet_Identifier': 'onehot'}\n"
     ]
    }
   ],
   "source": [
    "# Define which columns are ordinal vs. nominal\n",
    "# Identifiers are treated as ordinal here for simplicity, as one-hot encoding them would create too many features.\n",
    "ordinal_cols = ['Item_Fat_Content', 'Outlet_Size', 'Outlet_Location_Type', 'Item_Identifier']\n",
    "nominal_cols = ['Item_Type', 'Outlet_Type', 'Outlet_Identifier']\n",
    "\n",
    "# Create the dictionary to specify encoder types\n",
    "cat_cols_and_encoder_types = {col: 'label' for col in ordinal_cols}\n",
    "cat_cols_and_encoder_types.update({col: 'onehot' for col in nominal_cols})\n",
    "\n",
    "# Display the resulting dictionary\n",
    "print(cat_cols_and_encoder_types)"
   ]
  },
  {
   "cell_type": "code",
   "execution_count": 34,
   "metadata": {},
   "outputs": [
    {
     "name": "stdout",
     "output_type": "stream",
     "text": [
      "Situations cat columns are encoded and added!\n"
     ]
    }
   ],
   "source": [
    "# get categorical features of situations\n",
    "only_situations_cat_cols_before_encoding = get_cat_feature_names(situations)\n",
    "situations, situations_cat_cols_encoders = encode_cat_cols(\n",
    "                                              situations, cat_cols_and_encoder_types)\n",
    "print(\"Situations cat columns are encoded and added!\")"
   ]
  },
  {
   "cell_type": "code",
   "execution_count": 35,
   "metadata": {},
   "outputs": [
    {
     "data": {
      "text/html": [
       "<div>\n",
       "<style scoped>\n",
       "    .dataframe tbody tr th:only-of-type {\n",
       "        vertical-align: middle;\n",
       "    }\n",
       "\n",
       "    .dataframe tbody tr th {\n",
       "        vertical-align: top;\n",
       "    }\n",
       "\n",
       "    .dataframe thead th {\n",
       "        text-align: right;\n",
       "    }\n",
       "</style>\n",
       "<table border=\"1\" class=\"dataframe\">\n",
       "  <thead>\n",
       "    <tr style=\"text-align: right;\">\n",
       "      <th></th>\n",
       "      <th>Item_Identifier</th>\n",
       "      <th>Item_Weight</th>\n",
       "      <th>Item_Fat_Content</th>\n",
       "      <th>Item_Visibility</th>\n",
       "      <th>Item_Type</th>\n",
       "      <th>Item_MRP</th>\n",
       "      <th>Outlet_Identifier</th>\n",
       "      <th>Outlet_Establishment_Year</th>\n",
       "      <th>Outlet_Size</th>\n",
       "      <th>Outlet_Location_Type</th>\n",
       "      <th>...</th>\n",
       "      <th>Outlet_Identifier_encoded_OUT010</th>\n",
       "      <th>Outlet_Identifier_encoded_OUT013</th>\n",
       "      <th>Outlet_Identifier_encoded_OUT017</th>\n",
       "      <th>Outlet_Identifier_encoded_OUT018</th>\n",
       "      <th>Outlet_Identifier_encoded_OUT019</th>\n",
       "      <th>Outlet_Identifier_encoded_OUT027</th>\n",
       "      <th>Outlet_Identifier_encoded_OUT035</th>\n",
       "      <th>Outlet_Identifier_encoded_OUT045</th>\n",
       "      <th>Outlet_Identifier_encoded_OUT046</th>\n",
       "      <th>Outlet_Identifier_encoded_OUT049</th>\n",
       "    </tr>\n",
       "  </thead>\n",
       "  <tbody>\n",
       "    <tr>\n",
       "      <th>0</th>\n",
       "      <td>FDW58</td>\n",
       "      <td>20.750</td>\n",
       "      <td>LF</td>\n",
       "      <td>0.007565</td>\n",
       "      <td>Snack Foods</td>\n",
       "      <td>107.8622</td>\n",
       "      <td>OUT049</td>\n",
       "      <td>1999</td>\n",
       "      <td>Medium</td>\n",
       "      <td>Tier 1</td>\n",
       "      <td>...</td>\n",
       "      <td>0.0</td>\n",
       "      <td>0.0</td>\n",
       "      <td>0.0</td>\n",
       "      <td>0.0</td>\n",
       "      <td>0.0</td>\n",
       "      <td>0.0</td>\n",
       "      <td>0.0</td>\n",
       "      <td>0.0</td>\n",
       "      <td>0.0</td>\n",
       "      <td>1.0</td>\n",
       "    </tr>\n",
       "    <tr>\n",
       "      <th>1</th>\n",
       "      <td>FDW14</td>\n",
       "      <td>8.300</td>\n",
       "      <td>reg</td>\n",
       "      <td>0.038428</td>\n",
       "      <td>Dairy</td>\n",
       "      <td>87.3198</td>\n",
       "      <td>OUT017</td>\n",
       "      <td>2007</td>\n",
       "      <td>Small</td>\n",
       "      <td>Tier 2</td>\n",
       "      <td>...</td>\n",
       "      <td>0.0</td>\n",
       "      <td>0.0</td>\n",
       "      <td>1.0</td>\n",
       "      <td>0.0</td>\n",
       "      <td>0.0</td>\n",
       "      <td>0.0</td>\n",
       "      <td>0.0</td>\n",
       "      <td>0.0</td>\n",
       "      <td>0.0</td>\n",
       "      <td>0.0</td>\n",
       "    </tr>\n",
       "    <tr>\n",
       "      <th>2</th>\n",
       "      <td>NCN55</td>\n",
       "      <td>14.600</td>\n",
       "      <td>LF</td>\n",
       "      <td>0.099575</td>\n",
       "      <td>Others</td>\n",
       "      <td>241.7538</td>\n",
       "      <td>OUT010</td>\n",
       "      <td>1998</td>\n",
       "      <td>Medium</td>\n",
       "      <td>Tier 3</td>\n",
       "      <td>...</td>\n",
       "      <td>1.0</td>\n",
       "      <td>0.0</td>\n",
       "      <td>0.0</td>\n",
       "      <td>0.0</td>\n",
       "      <td>0.0</td>\n",
       "      <td>0.0</td>\n",
       "      <td>0.0</td>\n",
       "      <td>0.0</td>\n",
       "      <td>0.0</td>\n",
       "      <td>0.0</td>\n",
       "    </tr>\n",
       "    <tr>\n",
       "      <th>3</th>\n",
       "      <td>FDQ58</td>\n",
       "      <td>7.315</td>\n",
       "      <td>LF</td>\n",
       "      <td>0.015388</td>\n",
       "      <td>Snack Foods</td>\n",
       "      <td>155.0340</td>\n",
       "      <td>OUT017</td>\n",
       "      <td>2007</td>\n",
       "      <td>Small</td>\n",
       "      <td>Tier 2</td>\n",
       "      <td>...</td>\n",
       "      <td>0.0</td>\n",
       "      <td>0.0</td>\n",
       "      <td>1.0</td>\n",
       "      <td>0.0</td>\n",
       "      <td>0.0</td>\n",
       "      <td>0.0</td>\n",
       "      <td>0.0</td>\n",
       "      <td>0.0</td>\n",
       "      <td>0.0</td>\n",
       "      <td>0.0</td>\n",
       "    </tr>\n",
       "    <tr>\n",
       "      <th>4</th>\n",
       "      <td>FDY38</td>\n",
       "      <td>13.600</td>\n",
       "      <td>reg</td>\n",
       "      <td>0.118599</td>\n",
       "      <td>Dairy</td>\n",
       "      <td>234.2300</td>\n",
       "      <td>OUT027</td>\n",
       "      <td>1985</td>\n",
       "      <td>Medium</td>\n",
       "      <td>Tier 3</td>\n",
       "      <td>...</td>\n",
       "      <td>0.0</td>\n",
       "      <td>0.0</td>\n",
       "      <td>0.0</td>\n",
       "      <td>0.0</td>\n",
       "      <td>0.0</td>\n",
       "      <td>1.0</td>\n",
       "      <td>0.0</td>\n",
       "      <td>0.0</td>\n",
       "      <td>0.0</td>\n",
       "      <td>0.0</td>\n",
       "    </tr>\n",
       "    <tr>\n",
       "      <th>...</th>\n",
       "      <td>...</td>\n",
       "      <td>...</td>\n",
       "      <td>...</td>\n",
       "      <td>...</td>\n",
       "      <td>...</td>\n",
       "      <td>...</td>\n",
       "      <td>...</td>\n",
       "      <td>...</td>\n",
       "      <td>...</td>\n",
       "      <td>...</td>\n",
       "      <td>...</td>\n",
       "      <td>...</td>\n",
       "      <td>...</td>\n",
       "      <td>...</td>\n",
       "      <td>...</td>\n",
       "      <td>...</td>\n",
       "      <td>...</td>\n",
       "      <td>...</td>\n",
       "      <td>...</td>\n",
       "      <td>...</td>\n",
       "      <td>...</td>\n",
       "    </tr>\n",
       "    <tr>\n",
       "      <th>14199</th>\n",
       "      <td>FDF22</td>\n",
       "      <td>6.865</td>\n",
       "      <td>LF</td>\n",
       "      <td>0.056783</td>\n",
       "      <td>Snack Foods</td>\n",
       "      <td>214.5218</td>\n",
       "      <td>OUT013</td>\n",
       "      <td>1987</td>\n",
       "      <td>High</td>\n",
       "      <td>Tier 3</td>\n",
       "      <td>...</td>\n",
       "      <td>0.0</td>\n",
       "      <td>1.0</td>\n",
       "      <td>0.0</td>\n",
       "      <td>0.0</td>\n",
       "      <td>0.0</td>\n",
       "      <td>0.0</td>\n",
       "      <td>0.0</td>\n",
       "      <td>0.0</td>\n",
       "      <td>0.0</td>\n",
       "      <td>0.0</td>\n",
       "    </tr>\n",
       "    <tr>\n",
       "      <th>14200</th>\n",
       "      <td>FDS36</td>\n",
       "      <td>8.380</td>\n",
       "      <td>reg</td>\n",
       "      <td>0.046982</td>\n",
       "      <td>Baking Goods</td>\n",
       "      <td>108.1570</td>\n",
       "      <td>OUT045</td>\n",
       "      <td>2002</td>\n",
       "      <td>Small</td>\n",
       "      <td>Tier 2</td>\n",
       "      <td>...</td>\n",
       "      <td>0.0</td>\n",
       "      <td>0.0</td>\n",
       "      <td>0.0</td>\n",
       "      <td>0.0</td>\n",
       "      <td>0.0</td>\n",
       "      <td>0.0</td>\n",
       "      <td>0.0</td>\n",
       "      <td>1.0</td>\n",
       "      <td>0.0</td>\n",
       "      <td>0.0</td>\n",
       "    </tr>\n",
       "    <tr>\n",
       "      <th>14201</th>\n",
       "      <td>NCJ29</td>\n",
       "      <td>10.600</td>\n",
       "      <td>LF</td>\n",
       "      <td>0.035186</td>\n",
       "      <td>Health and Hygiene</td>\n",
       "      <td>85.1224</td>\n",
       "      <td>OUT035</td>\n",
       "      <td>2004</td>\n",
       "      <td>Small</td>\n",
       "      <td>Tier 2</td>\n",
       "      <td>...</td>\n",
       "      <td>0.0</td>\n",
       "      <td>0.0</td>\n",
       "      <td>0.0</td>\n",
       "      <td>0.0</td>\n",
       "      <td>0.0</td>\n",
       "      <td>0.0</td>\n",
       "      <td>1.0</td>\n",
       "      <td>0.0</td>\n",
       "      <td>0.0</td>\n",
       "      <td>0.0</td>\n",
       "    </tr>\n",
       "    <tr>\n",
       "      <th>14202</th>\n",
       "      <td>FDN46</td>\n",
       "      <td>7.210</td>\n",
       "      <td>reg</td>\n",
       "      <td>0.145221</td>\n",
       "      <td>Snack Foods</td>\n",
       "      <td>103.1332</td>\n",
       "      <td>OUT018</td>\n",
       "      <td>2009</td>\n",
       "      <td>Medium</td>\n",
       "      <td>Tier 3</td>\n",
       "      <td>...</td>\n",
       "      <td>0.0</td>\n",
       "      <td>0.0</td>\n",
       "      <td>0.0</td>\n",
       "      <td>1.0</td>\n",
       "      <td>0.0</td>\n",
       "      <td>0.0</td>\n",
       "      <td>0.0</td>\n",
       "      <td>0.0</td>\n",
       "      <td>0.0</td>\n",
       "      <td>0.0</td>\n",
       "    </tr>\n",
       "    <tr>\n",
       "      <th>14203</th>\n",
       "      <td>DRG01</td>\n",
       "      <td>14.800</td>\n",
       "      <td>LF</td>\n",
       "      <td>0.044878</td>\n",
       "      <td>Soft Drinks</td>\n",
       "      <td>75.4670</td>\n",
       "      <td>OUT046</td>\n",
       "      <td>1997</td>\n",
       "      <td>Small</td>\n",
       "      <td>Tier 1</td>\n",
       "      <td>...</td>\n",
       "      <td>0.0</td>\n",
       "      <td>0.0</td>\n",
       "      <td>0.0</td>\n",
       "      <td>0.0</td>\n",
       "      <td>0.0</td>\n",
       "      <td>0.0</td>\n",
       "      <td>0.0</td>\n",
       "      <td>0.0</td>\n",
       "      <td>1.0</td>\n",
       "      <td>0.0</td>\n",
       "    </tr>\n",
       "  </tbody>\n",
       "</table>\n",
       "<p>14204 rows × 45 columns</p>\n",
       "</div>"
      ],
      "text/plain": [
       "      Item_Identifier  Item_Weight Item_Fat_Content  Item_Visibility  \\\n",
       "0               FDW58       20.750               LF         0.007565   \n",
       "1               FDW14        8.300              reg         0.038428   \n",
       "2               NCN55       14.600               LF         0.099575   \n",
       "3               FDQ58        7.315               LF         0.015388   \n",
       "4               FDY38       13.600              reg         0.118599   \n",
       "...               ...          ...              ...              ...   \n",
       "14199           FDF22        6.865               LF         0.056783   \n",
       "14200           FDS36        8.380              reg         0.046982   \n",
       "14201           NCJ29       10.600               LF         0.035186   \n",
       "14202           FDN46        7.210              reg         0.145221   \n",
       "14203           DRG01       14.800               LF         0.044878   \n",
       "\n",
       "                Item_Type  Item_MRP Outlet_Identifier  \\\n",
       "0             Snack Foods  107.8622            OUT049   \n",
       "1                   Dairy   87.3198            OUT017   \n",
       "2                  Others  241.7538            OUT010   \n",
       "3             Snack Foods  155.0340            OUT017   \n",
       "4                   Dairy  234.2300            OUT027   \n",
       "...                   ...       ...               ...   \n",
       "14199         Snack Foods  214.5218            OUT013   \n",
       "14200        Baking Goods  108.1570            OUT045   \n",
       "14201  Health and Hygiene   85.1224            OUT035   \n",
       "14202         Snack Foods  103.1332            OUT018   \n",
       "14203         Soft Drinks   75.4670            OUT046   \n",
       "\n",
       "       Outlet_Establishment_Year Outlet_Size Outlet_Location_Type  ...  \\\n",
       "0                           1999      Medium               Tier 1  ...   \n",
       "1                           2007       Small               Tier 2  ...   \n",
       "2                           1998      Medium               Tier 3  ...   \n",
       "3                           2007       Small               Tier 2  ...   \n",
       "4                           1985      Medium               Tier 3  ...   \n",
       "...                          ...         ...                  ...  ...   \n",
       "14199                       1987        High               Tier 3  ...   \n",
       "14200                       2002       Small               Tier 2  ...   \n",
       "14201                       2004       Small               Tier 2  ...   \n",
       "14202                       2009      Medium               Tier 3  ...   \n",
       "14203                       1997       Small               Tier 1  ...   \n",
       "\n",
       "      Outlet_Identifier_encoded_OUT010  Outlet_Identifier_encoded_OUT013  \\\n",
       "0                                  0.0                               0.0   \n",
       "1                                  0.0                               0.0   \n",
       "2                                  1.0                               0.0   \n",
       "3                                  0.0                               0.0   \n",
       "4                                  0.0                               0.0   \n",
       "...                                ...                               ...   \n",
       "14199                              0.0                               1.0   \n",
       "14200                              0.0                               0.0   \n",
       "14201                              0.0                               0.0   \n",
       "14202                              0.0                               0.0   \n",
       "14203                              0.0                               0.0   \n",
       "\n",
       "       Outlet_Identifier_encoded_OUT017  Outlet_Identifier_encoded_OUT018  \\\n",
       "0                                   0.0                               0.0   \n",
       "1                                   1.0                               0.0   \n",
       "2                                   0.0                               0.0   \n",
       "3                                   1.0                               0.0   \n",
       "4                                   0.0                               0.0   \n",
       "...                                 ...                               ...   \n",
       "14199                               0.0                               0.0   \n",
       "14200                               0.0                               0.0   \n",
       "14201                               0.0                               0.0   \n",
       "14202                               0.0                               1.0   \n",
       "14203                               0.0                               0.0   \n",
       "\n",
       "       Outlet_Identifier_encoded_OUT019  Outlet_Identifier_encoded_OUT027  \\\n",
       "0                                   0.0                               0.0   \n",
       "1                                   0.0                               0.0   \n",
       "2                                   0.0                               0.0   \n",
       "3                                   0.0                               0.0   \n",
       "4                                   0.0                               1.0   \n",
       "...                                 ...                               ...   \n",
       "14199                               0.0                               0.0   \n",
       "14200                               0.0                               0.0   \n",
       "14201                               0.0                               0.0   \n",
       "14202                               0.0                               0.0   \n",
       "14203                               0.0                               0.0   \n",
       "\n",
       "       Outlet_Identifier_encoded_OUT035  Outlet_Identifier_encoded_OUT045  \\\n",
       "0                                   0.0                               0.0   \n",
       "1                                   0.0                               0.0   \n",
       "2                                   0.0                               0.0   \n",
       "3                                   0.0                               0.0   \n",
       "4                                   0.0                               0.0   \n",
       "...                                 ...                               ...   \n",
       "14199                               0.0                               0.0   \n",
       "14200                               0.0                               1.0   \n",
       "14201                               1.0                               0.0   \n",
       "14202                               0.0                               0.0   \n",
       "14203                               0.0                               0.0   \n",
       "\n",
       "       Outlet_Identifier_encoded_OUT046  Outlet_Identifier_encoded_OUT049  \n",
       "0                                   0.0                               1.0  \n",
       "1                                   0.0                               0.0  \n",
       "2                                   0.0                               0.0  \n",
       "3                                   0.0                               0.0  \n",
       "4                                   0.0                               0.0  \n",
       "...                                 ...                               ...  \n",
       "14199                               0.0                               0.0  \n",
       "14200                               0.0                               0.0  \n",
       "14201                               0.0                               0.0  \n",
       "14202                               0.0                               0.0  \n",
       "14203                               1.0                               0.0  \n",
       "\n",
       "[14204 rows x 45 columns]"
      ]
     },
     "execution_count": 35,
     "metadata": {},
     "output_type": "execute_result"
    }
   ],
   "source": [
    "situations"
   ]
  },
  {
   "cell_type": "code",
   "execution_count": 36,
   "metadata": {
    "tags": [
     "non canon"
    ]
   },
   "outputs": [],
   "source": [
    "# # check number of stores and their presence in stores\n",
    "# items_sell_in_number_of_stores = situations.groupby('Item_Identifier')['Outlet_Identifier'].count()\n",
    "# print(len(items_sell_in_number_of_stores))\n",
    "# print(items_sell_in_number_of_stores.describe())"
   ]
  },
  {
   "cell_type": "markdown",
   "metadata": {},
   "source": [
    "Every item sells in 1-10 stores. Most items sell around 5 number of stores."
   ]
  },
  {
   "cell_type": "markdown",
   "metadata": {},
   "source": [
    "column names after encoding"
   ]
  },
  {
   "cell_type": "code",
   "execution_count": 37,
   "metadata": {},
   "outputs": [],
   "source": [
    "# # Check all the columns in situations. It has both encoded and raw columns\n",
    "# print(\"Situations columns after encoding all the categorical columns has these columns\")\n",
    "# print('_'*80)\n",
    "# all_situations_columns_after_encoding = situations.columns.values\n",
    "# print(all_situations_columns_after_encoding)\n",
    "\n",
    "# # Seperate columns that are not in raw cat columns. So, non-cat and encoded cat will be in features\n",
    "# only_situations_features_after_encoding = [col for col in all_situations_columns_after_encoding if col not in only_situations_cat_cols_before_encoding]\n",
    "# print(\"\\n\\nSituations column names after removing original unencoded cat columns\")\n",
    "# print('_' * 80)\n",
    "# print(only_situations_features_after_encoding, \"\\n\")\n",
    "\n",
    "# # Check number of columns before and after removing\n",
    "# print(f\"\\nTotal number of columns names after encoding is {len(all_situations_columns_after_encoding)}\")\n",
    "# print(\"\\nNumber of original unencoded categorical columns names is\", len(only_situations_cat_cols_before_encoding))\n",
    "# print(f\"\\nNumber of column names after removing unecoded columns {len(only_situations_features_after_encoding)}\")"
   ]
  },
  {
   "cell_type": "markdown",
   "metadata": {},
   "source": [
    "## Modelling"
   ]
  },
  {
   "cell_type": "markdown",
   "metadata": {},
   "source": [
    "## Split dataset before modelling\n",
    "\n",
    "get stores assortments from situations use this in situations.iloc[num_of_rows_situations:]\n",
    "situations = situations.iloc[:num_of_rows_situations]"
   ]
  },
  {
   "cell_type": "code",
   "execution_count": 38,
   "metadata": {},
   "outputs": [
    {
     "data": {
      "text/plain": [
       "array([14204,    45])"
      ]
     },
     "execution_count": 38,
     "metadata": {},
     "output_type": "execute_result"
    }
   ],
   "source": [
    "np.array(situations.shape)"
   ]
  },
  {
   "cell_type": "code",
   "execution_count": 39,
   "metadata": {},
   "outputs": [],
   "source": [
    "# get stores assortments from situations\n",
    "stores_assortments = situations.iloc[num_of_rows_situations:]\n",
    "situations = situations.iloc[:num_of_rows_situations]"
   ]
  },
  {
   "cell_type": "code",
   "execution_count": 40,
   "metadata": {},
   "outputs": [
    {
     "data": {
      "text/plain": [
       "array([14204,    90])"
      ]
     },
     "execution_count": 40,
     "metadata": {},
     "output_type": "execute_result"
    }
   ],
   "source": [
    "np.array(stores_assortments.shape) + np.array(situations.shape)"
   ]
  },
  {
   "cell_type": "markdown",
   "metadata": {},
   "source": [
    "## Tarining\n",
    "1. Splice the dataset removing the raw categorical columns that have been encodeded.\n",
    "2. The model looks at this splice \n",
    "3. The model gives the predictions"
   ]
  },
  {
   "cell_type": "code",
   "execution_count": 41,
   "metadata": {},
   "outputs": [],
   "source": [
    "# remove_these_columns has the columsn to remove\n",
    "remove_these_columns = list(cat_cols_and_encoder_types.keys()) "
   ]
  },
  {
   "cell_type": "code",
   "execution_count": 42,
   "metadata": {},
   "outputs": [],
   "source": [
    "# Fit the model and see train error\n",
    "model = LGBMRegressor()\n",
    "train_data = situations.drop(remove_these_columns, axis=1)\n",
    "trained_model = model.fit(train_data, business)\n",
    "predictions = trained_model.predict(train_data)"
   ]
  },
  {
   "cell_type": "code",
   "execution_count": 43,
   "metadata": {},
   "outputs": [
    {
     "name": "stdout",
     "output_type": "stream",
     "text": [
      "0.5394647994357101\n",
      "1508.9818446655956\n"
     ]
    }
   ],
   "source": [
    "print(mean_absolute_percentage_error(predictions, business))\n",
    "print(np.sqrt(mean_squared_error(business, predictions)))"
   ]
  },
  {
   "cell_type": "markdown",
   "metadata": {},
   "source": [
    "## Prediction"
   ]
  },
  {
   "cell_type": "markdown",
   "metadata": {},
   "source": [
    "1. splice the store assortments by dropping raw cat columns that have been encoded\n",
    "2. the model looks at the splice and adds Item_Outlet_Sales solumns "
   ]
  },
  {
   "cell_type": "code",
   "execution_count": 44,
   "metadata": {},
   "outputs": [
    {
     "name": "stderr",
     "output_type": "stream",
     "text": [
      "/var/folders/p4/8vczfn8n05q2krzcqjdts07h0000gn/T/ipykernel_29207/689601630.py:4: SettingWithCopyWarning: \n",
      "A value is trying to be set on a copy of a slice from a DataFrame.\n",
      "Try using .loc[row_indexer,col_indexer] = value instead\n",
      "\n",
      "See the caveats in the documentation: https://pandas.pydata.org/pandas-docs/stable/user_guide/indexing.html#returning-a-view-versus-a-copy\n",
      "  stores_assortments.loc[:, 'Item_Outlet_Sales'] = trained_model.predict(test_data)\n"
     ]
    }
   ],
   "source": [
    "# drop the columns from store assortments using the remove list from training \n",
    "test_data = stores_assortments.drop(remove_these_columns, axis=1)\n",
    "# model adds new column\n",
    "stores_assortments.loc[:, 'Item_Outlet_Sales'] = trained_model.predict(test_data)"
   ]
  },
  {
   "cell_type": "markdown",
   "metadata": {},
   "source": [
    "## Submissions"
   ]
  },
  {
   "cell_type": "markdown",
   "metadata": {},
   "source": [
    "Just keep desiredt columns"
   ]
  },
  {
   "cell_type": "code",
   "execution_count": 45,
   "metadata": {},
   "outputs": [],
   "source": [
    "# use desired features list\n",
    "stores_assortments.loc[stores_assortments['Item_Outlet_Sales'] < 0, 'Item_Outlet_Sales'] = 0\n",
    "final_cols = ['Item_Identifier', 'Outlet_Identifier', 'Item_Outlet_Sales']\n",
    "stores_assortments[final_cols].to_csv(r'/Users/yadav.a.1/Downloads/predictions_process_together.csv', index=False)"
   ]
  }
 ],
 "metadata": {
  "kernelspec": {
   "display_name": "cpfr-factory",
   "language": "python",
   "name": "python3"
  },
  "language_info": {
   "codemirror_mode": {
    "name": "ipython",
    "version": 3
   },
   "file_extension": ".py",
   "mimetype": "text/x-python",
   "name": "python",
   "nbconvert_exporter": "python",
   "pygments_lexer": "ipython3",
   "version": "3.10.16"
  }
 },
 "nbformat": 4,
 "nbformat_minor": 2
}
